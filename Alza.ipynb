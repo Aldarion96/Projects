{
  "nbformat": 4,
  "nbformat_minor": 0,
  "metadata": {
    "colab": {
      "name": "Alza.ipynb",
      "provenance": [],
      "collapsed_sections": [],
      "authorship_tag": "ABX9TyNwTKX5nXzwbwnGV2f5zWkw",
      "include_colab_link": true
    },
    "kernelspec": {
      "name": "python3",
      "display_name": "Python 3"
    },
    "language_info": {
      "name": "python"
    }
  },
  "cells": [
    {
      "cell_type": "markdown",
      "metadata": {
        "id": "view-in-github",
        "colab_type": "text"
      },
      "source": [
        "<a href=\"https://colab.research.google.com/github/Aldarion96/Projects/blob/main/Alza.ipynb\" target=\"_parent\"><img src=\"https://colab.research.google.com/assets/colab-badge.svg\" alt=\"Open In Colab\"/></a>"
      ]
    },
    {
      "cell_type": "code",
      "execution_count": 105,
      "metadata": {
        "colab": {
          "base_uri": "https://localhost:8080/"
        },
        "id": "7HkQZ-_TxBha",
        "outputId": "6c363ac8-4b7f-40b4-c115-03b61ea1c7c6"
      },
      "outputs": [
        {
          "output_type": "stream",
          "name": "stdout",
          "text": [
            "       InvoiceNo StockCode  ... CustomerID         Country\n",
            "0         536365    85123A  ...    17850.0  United Kingdom\n",
            "1         536365     71053  ...    17850.0  United Kingdom\n",
            "2         536365    84406B  ...    17850.0  United Kingdom\n",
            "3         536365    84029G  ...    17850.0  United Kingdom\n",
            "4         536365    84029E  ...    17850.0  United Kingdom\n",
            "...          ...       ...  ...        ...             ...\n",
            "541904    581587     22613  ...    12680.0          France\n",
            "541905    581587     22899  ...    12680.0          France\n",
            "541906    581587     23254  ...    12680.0          France\n",
            "541907    581587     23255  ...    12680.0          France\n",
            "541908    581587     22138  ...    12680.0          France\n",
            "\n",
            "[541909 rows x 8 columns]\n"
          ]
        }
      ],
      "source": [
        "import pandas as pd\n",
        "import matplotlib.pyplot as plt\n",
        "\n",
        "df_retail = pd.read_excel (r'/content/sample_data/Online Retail.xlsx')\n",
        "print (df_retail)"
      ]
    },
    {
      "cell_type": "markdown",
      "source": [
        "**Úprava datasetu:**\n",
        "\n",
        "*čištění*\n",
        "-řádky s Description pouze znaky, wrong, wrongly, \n",
        "- řádky kde není C ale je quantity záporný\n",
        "- prázdné pole Description s nulovou cenou\n",
        "- A = Adjust bad debt\n",
        "- C = zrušené nákupy (10 000 řádků)\n",
        "\n",
        "*Vytvořit*\n",
        "- sloupec flag\n",
        "-sloupec profit (quantity * price)\n",
        "\n",
        "\n",
        "\n",
        "*Vizualizace*\n",
        "- ze které země se nakupuje nejvíce\n",
        "- jaký produkt se nakupuje nejvíce\n",
        "celkový profit/ztráta / za kvartál\n",
        " "
      ],
      "metadata": {
        "id": "p7rcOXKRiHaM"
      }
    },
    {
      "cell_type": "markdown",
      "source": [
        "**Identifikování chybějících dat**"
      ],
      "metadata": {
        "id": "A2J23WLX6G09"
      }
    },
    {
      "cell_type": "code",
      "source": [
        "df_retail.info()\n",
        "df_retail.dtypes\n",
        "df_retail.shape"
      ],
      "metadata": {
        "colab": {
          "base_uri": "https://localhost:8080/"
        },
        "id": "rJnPH0aJ1M4l",
        "outputId": "8daeede1-8682-40e6-94d1-a3563600d19d"
      },
      "execution_count": 106,
      "outputs": [
        {
          "output_type": "stream",
          "name": "stdout",
          "text": [
            "<class 'pandas.core.frame.DataFrame'>\n",
            "RangeIndex: 541909 entries, 0 to 541908\n",
            "Data columns (total 8 columns):\n",
            " #   Column       Non-Null Count   Dtype         \n",
            "---  ------       --------------   -----         \n",
            " 0   InvoiceNo    541909 non-null  object        \n",
            " 1   StockCode    541909 non-null  object        \n",
            " 2   Description  540455 non-null  object        \n",
            " 3   Quantity     541909 non-null  int64         \n",
            " 4   InvoiceDate  541909 non-null  datetime64[ns]\n",
            " 5   UnitPrice    541909 non-null  float64       \n",
            " 6   CustomerID   406829 non-null  float64       \n",
            " 7   Country      541909 non-null  object        \n",
            "dtypes: datetime64[ns](1), float64(2), int64(1), object(4)\n",
            "memory usage: 33.1+ MB\n"
          ]
        },
        {
          "output_type": "execute_result",
          "data": {
            "text/plain": [
              "(541909, 8)"
            ]
          },
          "metadata": {},
          "execution_count": 106
        }
      ]
    },
    {
      "cell_type": "code",
      "source": [
        "df_retail.isnull().sum()"
      ],
      "metadata": {
        "colab": {
          "base_uri": "https://localhost:8080/"
        },
        "id": "kkXZg2XD1Mxg",
        "outputId": "1a376c86-626e-4d90-d277-11f12b9d574c"
      },
      "execution_count": 107,
      "outputs": [
        {
          "output_type": "execute_result",
          "data": {
            "text/plain": [
              "InvoiceNo           0\n",
              "StockCode           0\n",
              "Description      1454\n",
              "Quantity            0\n",
              "InvoiceDate         0\n",
              "UnitPrice           0\n",
              "CustomerID     135080\n",
              "Country             0\n",
              "dtype: int64"
            ]
          },
          "metadata": {},
          "execution_count": 107
        }
      ]
    },
    {
      "cell_type": "code",
      "source": [
        "for column in df_retail.columns:\n",
        "    percentage = df_retail[column].isnull().mean()\n",
        "    print(f'{column}: {round(percentage*100, 2)}%')"
      ],
      "metadata": {
        "colab": {
          "base_uri": "https://localhost:8080/"
        },
        "id": "ToVQT41Q1Moj",
        "outputId": "2d17bf9e-4682-4359-b51d-1bb6bb759844"
      },
      "execution_count": 108,
      "outputs": [
        {
          "output_type": "stream",
          "name": "stdout",
          "text": [
            "InvoiceNo: 0.0%\n",
            "StockCode: 0.0%\n",
            "Description: 0.27%\n",
            "Quantity: 0.0%\n",
            "InvoiceDate: 0.0%\n",
            "UnitPrice: 0.0%\n",
            "CustomerID: 24.93%\n",
            "Country: 0.0%\n"
          ]
        }
      ]
    },
    {
      "cell_type": "markdown",
      "source": [
        "**Čištění**"
      ],
      "metadata": {
        "id": "qRmJzKik-Gel"
      }
    },
    {
      "cell_type": "markdown",
      "source": [
        "*Duplicitiní hodnoty*"
      ],
      "metadata": {
        "id": "SVZQuP1hKXqJ"
      }
    },
    {
      "cell_type": "code",
      "source": [
        "shape_a = df_retail.drop_duplicates()\n",
        "shape_a = shape_a.shape\n",
        "shape_b = df_retail.shape\n",
        "\n",
        "duplicates=shape_b[0]-shape_a[0]\n",
        "print(shape_a)\n",
        "print(shape_b )\n",
        "print(duplicates)"
      ],
      "metadata": {
        "id": "BeCeuvaQn86q",
        "outputId": "db0c34c1-9a86-4315-9936-e5be1fd607a0",
        "colab": {
          "base_uri": "https://localhost:8080/"
        }
      },
      "execution_count": 109,
      "outputs": [
        {
          "output_type": "stream",
          "name": "stdout",
          "text": [
            "(536641, 8)\n",
            "(541909, 8)\n",
            "5268\n"
          ]
        }
      ]
    },
    {
      "cell_type": "markdown",
      "source": [
        "*Odstranení v sloupci Description*"
      ],
      "metadata": {
        "id": "chPSO4XooJ50"
      }
    },
    {
      "cell_type": "code",
      "source": [
        "clear_df = df_retail[~df_retail.Description.str.contains(\"\\?|wrong|damage|crushed|missing|destroyed|lost|mouldy|wet|thrown|smashed|check|Dotcom|Printing|broken|counted|problem|away|ebay|incorrect\", na=False,case=False)]\n",
        "clear_df = clear_df.drop_duplicates()"
      ],
      "metadata": {
        "id": "TtXVg_fMId73"
      },
      "execution_count": 157,
      "outputs": []
    },
    {
      "cell_type": "code",
      "source": [
        "#clear_df.query(\"Description == 'wrong code'\")"
      ],
      "metadata": {
        "id": "Pc2E6UpumnQw"
      },
      "execution_count": 111,
      "outputs": []
    },
    {
      "cell_type": "markdown",
      "source": [
        "**1. Jaký produkt se prodává nejvíce:**"
      ],
      "metadata": {
        "id": "ty2SKjBqrTKu"
      }
    },
    {
      "cell_type": "markdown",
      "source": [
        "počet nákupů"
      ],
      "metadata": {
        "id": "Io3eN4oz8KJo"
      }
    },
    {
      "cell_type": "code",
      "source": [
        "sells_df = clear_df.assign(sells = 1)\n",
        "sells_df[['Description','StockCode','sells']].groupby(['StockCode','Description']).count().sort_values('sells',ascending = False)"
      ],
      "metadata": {
        "id": "f0T6dNJnrpe0",
        "colab": {
          "base_uri": "https://localhost:8080/",
          "height": 454
        },
        "outputId": "ab7da93c-2625-4f19-be87-195dcf706271"
      },
      "execution_count": 154,
      "outputs": [
        {
          "output_type": "execute_result",
          "data": {
            "text/html": [
              "<div>\n",
              "<style scoped>\n",
              "    .dataframe tbody tr th:only-of-type {\n",
              "        vertical-align: middle;\n",
              "    }\n",
              "\n",
              "    .dataframe tbody tr th {\n",
              "        vertical-align: top;\n",
              "    }\n",
              "\n",
              "    .dataframe thead th {\n",
              "        text-align: right;\n",
              "    }\n",
              "</style>\n",
              "<table border=\"1\" class=\"dataframe\">\n",
              "  <thead>\n",
              "    <tr style=\"text-align: right;\">\n",
              "      <th></th>\n",
              "      <th></th>\n",
              "      <th>sells</th>\n",
              "    </tr>\n",
              "    <tr>\n",
              "      <th>StockCode</th>\n",
              "      <th>Description</th>\n",
              "      <th></th>\n",
              "    </tr>\n",
              "  </thead>\n",
              "  <tbody>\n",
              "    <tr>\n",
              "      <th>85123A</th>\n",
              "      <th>WHITE HANGING HEART T-LIGHT HOLDER</th>\n",
              "      <td>2302</td>\n",
              "    </tr>\n",
              "    <tr>\n",
              "      <th>22423</th>\n",
              "      <th>REGENCY CAKESTAND 3 TIER</th>\n",
              "      <td>2200</td>\n",
              "    </tr>\n",
              "    <tr>\n",
              "      <th>85099B</th>\n",
              "      <th>JUMBO BAG RED RETROSPOT</th>\n",
              "      <td>2159</td>\n",
              "    </tr>\n",
              "    <tr>\n",
              "      <th>47566</th>\n",
              "      <th>PARTY BUNTING</th>\n",
              "      <td>1727</td>\n",
              "    </tr>\n",
              "    <tr>\n",
              "      <th>20725</th>\n",
              "      <th>LUNCH BAG RED RETROSPOT</th>\n",
              "      <td>1638</td>\n",
              "    </tr>\n",
              "    <tr>\n",
              "      <th>...</th>\n",
              "      <th>...</th>\n",
              "      <td>...</td>\n",
              "    </tr>\n",
              "    <tr>\n",
              "      <th>84968f</th>\n",
              "      <th>SET OF 16 VINTAGE SKY BLUE CUTLERY</th>\n",
              "      <td>1</td>\n",
              "    </tr>\n",
              "    <tr>\n",
              "      <th>35650</th>\n",
              "      <th>VINTAGE BEAD PINK JEWEL STAND</th>\n",
              "      <td>1</td>\n",
              "    </tr>\n",
              "    <tr>\n",
              "      <th>35832</th>\n",
              "      <th>WOOLLY HAT SOCK GLOVE ADVENT STRING</th>\n",
              "      <td>1</td>\n",
              "    </tr>\n",
              "    <tr>\n",
              "      <th>21491</th>\n",
              "      <th>SET OF THREE VINTAGE GIFT WRAPS</th>\n",
              "      <td>1</td>\n",
              "    </tr>\n",
              "    <tr>\n",
              "      <th>m</th>\n",
              "      <th>Manual</th>\n",
              "      <td>1</td>\n",
              "    </tr>\n",
              "  </tbody>\n",
              "</table>\n",
              "<p>4294 rows × 1 columns</p>\n",
              "</div>"
            ],
            "text/plain": [
              "                                               sells\n",
              "StockCode Description                               \n",
              "85123A    WHITE HANGING HEART T-LIGHT HOLDER    2302\n",
              "22423     REGENCY CAKESTAND 3 TIER              2200\n",
              "85099B    JUMBO BAG RED RETROSPOT               2159\n",
              "47566     PARTY BUNTING                         1727\n",
              "20725     LUNCH BAG RED RETROSPOT               1638\n",
              "...                                              ...\n",
              "84968f    SET OF 16 VINTAGE SKY BLUE CUTLERY       1\n",
              "35650     VINTAGE BEAD PINK JEWEL STAND            1\n",
              "35832     WOOLLY HAT SOCK GLOVE ADVENT STRING      1\n",
              "21491     SET OF THREE VINTAGE GIFT WRAPS          1\n",
              "m         Manual                                   1\n",
              "\n",
              "[4294 rows x 1 columns]"
            ]
          },
          "metadata": {},
          "execution_count": 154
        }
      ]
    },
    {
      "cell_type": "markdown",
      "source": [
        "**počet prodaných kusů**"
      ],
      "metadata": {
        "id": "HJPNzAkO8Rqd"
      }
    },
    {
      "cell_type": "code",
      "source": [
        "sells_df[['Description','StockCode','Quantity']].groupby(['StockCode','Description']).sum().sort_values('Quantity',ascending = False).head()"
      ],
      "metadata": {
        "id": "EL7lEtPHtPwh",
        "colab": {
          "base_uri": "https://localhost:8080/",
          "height": 237
        },
        "outputId": "095709dc-8ddd-4e4b-dca4-d5c17301a057"
      },
      "execution_count": 155,
      "outputs": [
        {
          "output_type": "execute_result",
          "data": {
            "text/html": [
              "<div>\n",
              "<style scoped>\n",
              "    .dataframe tbody tr th:only-of-type {\n",
              "        vertical-align: middle;\n",
              "    }\n",
              "\n",
              "    .dataframe tbody tr th {\n",
              "        vertical-align: top;\n",
              "    }\n",
              "\n",
              "    .dataframe thead th {\n",
              "        text-align: right;\n",
              "    }\n",
              "</style>\n",
              "<table border=\"1\" class=\"dataframe\">\n",
              "  <thead>\n",
              "    <tr style=\"text-align: right;\">\n",
              "      <th></th>\n",
              "      <th></th>\n",
              "      <th>Quantity</th>\n",
              "    </tr>\n",
              "    <tr>\n",
              "      <th>StockCode</th>\n",
              "      <th>Description</th>\n",
              "      <th></th>\n",
              "    </tr>\n",
              "  </thead>\n",
              "  <tbody>\n",
              "    <tr>\n",
              "      <th>84077</th>\n",
              "      <th>WORLD WAR 2 GLIDERS ASSTD DESIGNS</th>\n",
              "      <td>53847</td>\n",
              "    </tr>\n",
              "    <tr>\n",
              "      <th>85099B</th>\n",
              "      <th>JUMBO BAG RED RETROSPOT</th>\n",
              "      <td>47363</td>\n",
              "    </tr>\n",
              "    <tr>\n",
              "      <th>84879</th>\n",
              "      <th>ASSORTED COLOUR BIRD ORNAMENT</th>\n",
              "      <td>36381</td>\n",
              "    </tr>\n",
              "    <tr>\n",
              "      <th>22197</th>\n",
              "      <th>POPCORN HOLDER</th>\n",
              "      <td>36334</td>\n",
              "    </tr>\n",
              "    <tr>\n",
              "      <th>21212</th>\n",
              "      <th>PACK OF 72 RETROSPOT CAKE CASES</th>\n",
              "      <td>36039</td>\n",
              "    </tr>\n",
              "  </tbody>\n",
              "</table>\n",
              "</div>"
            ],
            "text/plain": [
              "                                             Quantity\n",
              "StockCode Description                                \n",
              "84077     WORLD WAR 2 GLIDERS ASSTD DESIGNS     53847\n",
              "85099B    JUMBO BAG RED RETROSPOT               47363\n",
              "84879     ASSORTED COLOUR BIRD ORNAMENT         36381\n",
              "22197     POPCORN HOLDER                        36334\n",
              "21212     PACK OF 72 RETROSPOT CAKE CASES       36039"
            ]
          },
          "metadata": {},
          "execution_count": 155
        }
      ]
    },
    {
      "cell_type": "markdown",
      "source": [
        "**Ve které zemi se prodává nejvíce:**"
      ],
      "metadata": {
        "id": "nKv15qh2-oXz"
      }
    },
    {
      "cell_type": "markdown",
      "source": [
        "**Vytvoření pmocných sloupců.**"
      ],
      "metadata": {
        "id": "SGyzksp7FyKg"
      }
    },
    {
      "cell_type": "markdown",
      "source": [
        "\n",
        "- **total** = celkový výnos/ztráta\n",
        "- **flag** = počet zakoupení\n",
        "- **quantity** = čeho se prodalo nejvíce / nejméně\n",
        "\n",
        "\n"
      ],
      "metadata": {
        "id": "Jb19mGGtG2mL"
      }
    },
    {
      "cell_type": "code",
      "source": [
        "df_countries = df_retail[['Country']].assign(sells = 1).groupby('Country').count().sort_values('sells',ascending = False)\n",
        "df_countries['percent'] = round((df_countries['sells']  / df_countries['sells'].sum()*100),2)\n",
        "df_countries.head()\n",
        "\n"
      ],
      "metadata": {
        "id": "uIDQIjzj_DJO",
        "colab": {
          "base_uri": "https://localhost:8080/",
          "height": 237
        },
        "outputId": "fe59c398-45a9-4c5c-f8eb-d96b272ed851"
      },
      "execution_count": 156,
      "outputs": [
        {
          "output_type": "execute_result",
          "data": {
            "text/html": [
              "<div>\n",
              "<style scoped>\n",
              "    .dataframe tbody tr th:only-of-type {\n",
              "        vertical-align: middle;\n",
              "    }\n",
              "\n",
              "    .dataframe tbody tr th {\n",
              "        vertical-align: top;\n",
              "    }\n",
              "\n",
              "    .dataframe thead th {\n",
              "        text-align: right;\n",
              "    }\n",
              "</style>\n",
              "<table border=\"1\" class=\"dataframe\">\n",
              "  <thead>\n",
              "    <tr style=\"text-align: right;\">\n",
              "      <th></th>\n",
              "      <th>sells</th>\n",
              "      <th>percent</th>\n",
              "    </tr>\n",
              "    <tr>\n",
              "      <th>Country</th>\n",
              "      <th></th>\n",
              "      <th></th>\n",
              "    </tr>\n",
              "  </thead>\n",
              "  <tbody>\n",
              "    <tr>\n",
              "      <th>United Kingdom</th>\n",
              "      <td>495478</td>\n",
              "      <td>91.43</td>\n",
              "    </tr>\n",
              "    <tr>\n",
              "      <th>Germany</th>\n",
              "      <td>9495</td>\n",
              "      <td>1.75</td>\n",
              "    </tr>\n",
              "    <tr>\n",
              "      <th>France</th>\n",
              "      <td>8557</td>\n",
              "      <td>1.58</td>\n",
              "    </tr>\n",
              "    <tr>\n",
              "      <th>EIRE</th>\n",
              "      <td>8196</td>\n",
              "      <td>1.51</td>\n",
              "    </tr>\n",
              "    <tr>\n",
              "      <th>Spain</th>\n",
              "      <td>2533</td>\n",
              "      <td>0.47</td>\n",
              "    </tr>\n",
              "  </tbody>\n",
              "</table>\n",
              "</div>"
            ],
            "text/plain": [
              "                 sells  percent\n",
              "Country                        \n",
              "United Kingdom  495478    91.43\n",
              "Germany           9495     1.75\n",
              "France            8557     1.58\n",
              "EIRE              8196     1.51\n",
              "Spain             2533     0.47"
            ]
          },
          "metadata": {},
          "execution_count": 156
        }
      ]
    },
    {
      "cell_type": "code",
      "source": [
        ""
      ],
      "metadata": {
        "id": "qCFPlroajEyx"
      },
      "execution_count": null,
      "outputs": []
    },
    {
      "cell_type": "markdown",
      "source": [
        "**Zisk / Ztráta**"
      ],
      "metadata": {
        "id": "1o6vKi4gCOnk"
      }
    },
    {
      "cell_type": "markdown",
      "source": [
        "Tabulka s vypočítanou ziskovostí či ztrátovostí"
      ],
      "metadata": {
        "id": "K4O1FYVdGIQQ"
      }
    },
    {
      "cell_type": "code",
      "source": [
        "df_profit = df_retail.assign(total = (df_retail.Quantity * df_retail.UnitPrice))\n",
        "df_profit.head(3)\n"
      ],
      "metadata": {
        "colab": {
          "base_uri": "https://localhost:8080/",
          "height": 143
        },
        "id": "_Gq12XwuCV7e",
        "outputId": "56ae7897-daed-4963-da61-0cc2c5decbdb"
      },
      "execution_count": 115,
      "outputs": [
        {
          "output_type": "execute_result",
          "data": {
            "text/html": [
              "<div>\n",
              "<style scoped>\n",
              "    .dataframe tbody tr th:only-of-type {\n",
              "        vertical-align: middle;\n",
              "    }\n",
              "\n",
              "    .dataframe tbody tr th {\n",
              "        vertical-align: top;\n",
              "    }\n",
              "\n",
              "    .dataframe thead th {\n",
              "        text-align: right;\n",
              "    }\n",
              "</style>\n",
              "<table border=\"1\" class=\"dataframe\">\n",
              "  <thead>\n",
              "    <tr style=\"text-align: right;\">\n",
              "      <th></th>\n",
              "      <th>InvoiceNo</th>\n",
              "      <th>StockCode</th>\n",
              "      <th>Description</th>\n",
              "      <th>Quantity</th>\n",
              "      <th>InvoiceDate</th>\n",
              "      <th>UnitPrice</th>\n",
              "      <th>CustomerID</th>\n",
              "      <th>Country</th>\n",
              "      <th>total</th>\n",
              "    </tr>\n",
              "  </thead>\n",
              "  <tbody>\n",
              "    <tr>\n",
              "      <th>0</th>\n",
              "      <td>536365</td>\n",
              "      <td>85123A</td>\n",
              "      <td>WHITE HANGING HEART T-LIGHT HOLDER</td>\n",
              "      <td>6</td>\n",
              "      <td>2010-12-01 08:26:00</td>\n",
              "      <td>2.55</td>\n",
              "      <td>17850.0</td>\n",
              "      <td>United Kingdom</td>\n",
              "      <td>15.30</td>\n",
              "    </tr>\n",
              "    <tr>\n",
              "      <th>1</th>\n",
              "      <td>536365</td>\n",
              "      <td>71053</td>\n",
              "      <td>WHITE METAL LANTERN</td>\n",
              "      <td>6</td>\n",
              "      <td>2010-12-01 08:26:00</td>\n",
              "      <td>3.39</td>\n",
              "      <td>17850.0</td>\n",
              "      <td>United Kingdom</td>\n",
              "      <td>20.34</td>\n",
              "    </tr>\n",
              "    <tr>\n",
              "      <th>2</th>\n",
              "      <td>536365</td>\n",
              "      <td>84406B</td>\n",
              "      <td>CREAM CUPID HEARTS COAT HANGER</td>\n",
              "      <td>8</td>\n",
              "      <td>2010-12-01 08:26:00</td>\n",
              "      <td>2.75</td>\n",
              "      <td>17850.0</td>\n",
              "      <td>United Kingdom</td>\n",
              "      <td>22.00</td>\n",
              "    </tr>\n",
              "  </tbody>\n",
              "</table>\n",
              "</div>"
            ],
            "text/plain": [
              "  InvoiceNo StockCode  ...         Country  total\n",
              "0    536365    85123A  ...  United Kingdom  15.30\n",
              "1    536365     71053  ...  United Kingdom  20.34\n",
              "2    536365    84406B  ...  United Kingdom  22.00\n",
              "\n",
              "[3 rows x 9 columns]"
            ]
          },
          "metadata": {},
          "execution_count": 115
        }
      ]
    },
    {
      "cell_type": "code",
      "source": [
        "df_profit = df_profit[['Description','StockCode','total']].groupby(['StockCode','Description']).sum().sort_values('total',ascending = False)"
      ],
      "metadata": {
        "id": "B6zYdEXJDuo5"
      },
      "execution_count": 116,
      "outputs": []
    },
    {
      "cell_type": "code",
      "source": [
        "df_profit_Stock = df_profit.query(\"total != 0\").sort_values('total', ascending = False)\n",
        "df_profit_Stock = df_profit_Stock.query(\"total > 0\") \n",
        "df_profit_Stock"
      ],
      "metadata": {
        "id": "sfKgwm6CFQO9",
        "colab": {
          "base_uri": "https://localhost:8080/",
          "height": 454
        },
        "outputId": "47965d82-8e17-452f-99c0-d96616047c63"
      },
      "execution_count": 117,
      "outputs": [
        {
          "output_type": "execute_result",
          "data": {
            "text/html": [
              "<div>\n",
              "<style scoped>\n",
              "    .dataframe tbody tr th:only-of-type {\n",
              "        vertical-align: middle;\n",
              "    }\n",
              "\n",
              "    .dataframe tbody tr th {\n",
              "        vertical-align: top;\n",
              "    }\n",
              "\n",
              "    .dataframe thead th {\n",
              "        text-align: right;\n",
              "    }\n",
              "</style>\n",
              "<table border=\"1\" class=\"dataframe\">\n",
              "  <thead>\n",
              "    <tr style=\"text-align: right;\">\n",
              "      <th></th>\n",
              "      <th></th>\n",
              "      <th>total</th>\n",
              "    </tr>\n",
              "    <tr>\n",
              "      <th>StockCode</th>\n",
              "      <th>Description</th>\n",
              "      <th></th>\n",
              "    </tr>\n",
              "  </thead>\n",
              "  <tbody>\n",
              "    <tr>\n",
              "      <th>DOT</th>\n",
              "      <th>DOTCOM POSTAGE</th>\n",
              "      <td>206245.480</td>\n",
              "    </tr>\n",
              "    <tr>\n",
              "      <th>22423</th>\n",
              "      <th>REGENCY CAKESTAND 3 TIER</th>\n",
              "      <td>164762.190</td>\n",
              "    </tr>\n",
              "    <tr>\n",
              "      <th>47566</th>\n",
              "      <th>PARTY BUNTING</th>\n",
              "      <td>98302.980</td>\n",
              "    </tr>\n",
              "    <tr>\n",
              "      <th>85123A</th>\n",
              "      <th>WHITE HANGING HEART T-LIGHT HOLDER</th>\n",
              "      <td>97715.990</td>\n",
              "    </tr>\n",
              "    <tr>\n",
              "      <th>85099B</th>\n",
              "      <th>JUMBO BAG RED RETROSPOT</th>\n",
              "      <td>92356.030</td>\n",
              "    </tr>\n",
              "    <tr>\n",
              "      <th>...</th>\n",
              "      <th>...</th>\n",
              "      <td>...</td>\n",
              "    </tr>\n",
              "    <tr>\n",
              "      <th>51014c</th>\n",
              "      <th>FEATHER PEN,COAL BLACK</th>\n",
              "      <td>0.830</td>\n",
              "    </tr>\n",
              "    <tr>\n",
              "      <th>85047</th>\n",
              "      <th>WHITE BEADED GARLAND STRING 20LIGHT</th>\n",
              "      <td>0.800</td>\n",
              "    </tr>\n",
              "    <tr>\n",
              "      <th>23366</th>\n",
              "      <th>SET 12 COLOURING PENCILS DOILEY</th>\n",
              "      <td>0.650</td>\n",
              "    </tr>\n",
              "    <tr>\n",
              "      <th>84227</th>\n",
              "      <th>HEN HOUSE W CHICK IN NEST</th>\n",
              "      <td>0.420</td>\n",
              "    </tr>\n",
              "    <tr>\n",
              "      <th>PADS</th>\n",
              "      <th>PADS TO MATCH ALL CUSHIONS</th>\n",
              "      <td>0.003</td>\n",
              "    </tr>\n",
              "  </tbody>\n",
              "</table>\n",
              "<p>4147 rows × 1 columns</p>\n",
              "</div>"
            ],
            "text/plain": [
              "                                                    total\n",
              "StockCode Description                                    \n",
              "DOT       DOTCOM POSTAGE                       206245.480\n",
              "22423     REGENCY CAKESTAND 3 TIER             164762.190\n",
              "47566     PARTY BUNTING                         98302.980\n",
              "85123A    WHITE HANGING HEART T-LIGHT HOLDER    97715.990\n",
              "85099B    JUMBO BAG RED RETROSPOT               92356.030\n",
              "...                                                   ...\n",
              "51014c    FEATHER PEN,COAL BLACK                    0.830\n",
              "85047     WHITE BEADED GARLAND STRING 20LIGHT       0.800\n",
              "23366     SET 12 COLOURING PENCILS DOILEY           0.650\n",
              "84227     HEN HOUSE W CHICK IN NEST                 0.420\n",
              "PADS      PADS TO MATCH ALL CUSHIONS                0.003\n",
              "\n",
              "[4147 rows x 1 columns]"
            ]
          },
          "metadata": {},
          "execution_count": 117
        }
      ]
    },
    {
      "cell_type": "code",
      "source": [
        "#df_profit_charges = df_profit.query(\"total < 0\") \n",
        "#df_profit_charges = df_profit_charges.reset_index()\n",
        "#df_profit_charges = df_profit_charges.StockCode.str.isnumeric()\n",
        "#df_profit_charges"
      ],
      "metadata": {
        "id": "ioEmci6l-9OR"
      },
      "execution_count": 118,
      "outputs": []
    },
    {
      "cell_type": "markdown",
      "source": [
        "**Ziskovost celkově za dny/měsíce/kvartály**"
      ],
      "metadata": {
        "id": "qhT714oFGYeG"
      }
    },
    {
      "cell_type": "code",
      "source": [
        "df_days = df_retail.assign(total = (df_retail.Quantity * df_retail.UnitPrice))"
      ],
      "metadata": {
        "id": "JMTSzoSEUF97"
      },
      "execution_count": 119,
      "outputs": []
    },
    {
      "cell_type": "code",
      "source": [
        "df_days.index = pd.to_datetime(df_days['InvoiceDate'],format='%m/%d/%y %I:%M%p')"
      ],
      "metadata": {
        "id": "X1HROlseUO8z"
      },
      "execution_count": 120,
      "outputs": []
    },
    {
      "cell_type": "code",
      "source": [
        "df_days = df_days[['total']].groupby(pd.Grouper(freq='d')).sum().sort_values('InvoiceDate')\n",
        "df_days"
      ],
      "metadata": {
        "colab": {
          "base_uri": "https://localhost:8080/",
          "height": 454
        },
        "id": "32ZM9JIyVAUA",
        "outputId": "8054d253-178a-493c-fe7f-12692d7200f9"
      },
      "execution_count": 184,
      "outputs": [
        {
          "output_type": "execute_result",
          "data": {
            "text/html": [
              "<div>\n",
              "<style scoped>\n",
              "    .dataframe tbody tr th:only-of-type {\n",
              "        vertical-align: middle;\n",
              "    }\n",
              "\n",
              "    .dataframe tbody tr th {\n",
              "        vertical-align: top;\n",
              "    }\n",
              "\n",
              "    .dataframe thead th {\n",
              "        text-align: right;\n",
              "    }\n",
              "</style>\n",
              "<table border=\"1\" class=\"dataframe\">\n",
              "  <thead>\n",
              "    <tr style=\"text-align: right;\">\n",
              "      <th></th>\n",
              "      <th>total</th>\n",
              "    </tr>\n",
              "    <tr>\n",
              "      <th>InvoiceDate</th>\n",
              "      <th></th>\n",
              "    </tr>\n",
              "  </thead>\n",
              "  <tbody>\n",
              "    <tr>\n",
              "      <th>2010-12-01</th>\n",
              "      <td>58635.56</td>\n",
              "    </tr>\n",
              "    <tr>\n",
              "      <th>2010-12-02</th>\n",
              "      <td>46207.28</td>\n",
              "    </tr>\n",
              "    <tr>\n",
              "      <th>2010-12-03</th>\n",
              "      <td>45620.46</td>\n",
              "    </tr>\n",
              "    <tr>\n",
              "      <th>2010-12-04</th>\n",
              "      <td>0.00</td>\n",
              "    </tr>\n",
              "    <tr>\n",
              "      <th>2010-12-05</th>\n",
              "      <td>31383.95</td>\n",
              "    </tr>\n",
              "    <tr>\n",
              "      <th>...</th>\n",
              "      <td>...</td>\n",
              "    </tr>\n",
              "    <tr>\n",
              "      <th>2011-12-05</th>\n",
              "      <td>57751.32</td>\n",
              "    </tr>\n",
              "    <tr>\n",
              "      <th>2011-12-06</th>\n",
              "      <td>54228.37</td>\n",
              "    </tr>\n",
              "    <tr>\n",
              "      <th>2011-12-07</th>\n",
              "      <td>75076.22</td>\n",
              "    </tr>\n",
              "    <tr>\n",
              "      <th>2011-12-08</th>\n",
              "      <td>81417.78</td>\n",
              "    </tr>\n",
              "    <tr>\n",
              "      <th>2011-12-09</th>\n",
              "      <td>32131.53</td>\n",
              "    </tr>\n",
              "  </tbody>\n",
              "</table>\n",
              "<p>374 rows × 1 columns</p>\n",
              "</div>"
            ],
            "text/plain": [
              "                total\n",
              "InvoiceDate          \n",
              "2010-12-01   58635.56\n",
              "2010-12-02   46207.28\n",
              "2010-12-03   45620.46\n",
              "2010-12-04       0.00\n",
              "2010-12-05   31383.95\n",
              "...               ...\n",
              "2011-12-05   57751.32\n",
              "2011-12-06   54228.37\n",
              "2011-12-07   75076.22\n",
              "2011-12-08   81417.78\n",
              "2011-12-09   32131.53\n",
              "\n",
              "[374 rows x 1 columns]"
            ]
          },
          "metadata": {},
          "execution_count": 184
        }
      ]
    },
    {
      "cell_type": "code",
      "source": [
        ""
      ],
      "metadata": {
        "id": "lSYjbk2Ulg98"
      },
      "execution_count": null,
      "outputs": []
    },
    {
      "cell_type": "code",
      "source": [
        "df_months = df_days.query(\"InvoiceDate >= '2011-01-01'\")\n",
        "df_months = df_months[['total']].groupby(pd.Grouper(freq='m')).sum().sort_values('InvoiceDate')\n",
        "df_months"
      ],
      "metadata": {
        "colab": {
          "base_uri": "https://localhost:8080/",
          "height": 456
        },
        "id": "MtQ8KkstVUc_",
        "outputId": "53c82ab2-bf0c-499b-dd21-cc86f5d77bc6"
      },
      "execution_count": 196,
      "outputs": [
        {
          "output_type": "execute_result",
          "data": {
            "text/html": [
              "<div>\n",
              "<style scoped>\n",
              "    .dataframe tbody tr th:only-of-type {\n",
              "        vertical-align: middle;\n",
              "    }\n",
              "\n",
              "    .dataframe tbody tr th {\n",
              "        vertical-align: top;\n",
              "    }\n",
              "\n",
              "    .dataframe thead th {\n",
              "        text-align: right;\n",
              "    }\n",
              "</style>\n",
              "<table border=\"1\" class=\"dataframe\">\n",
              "  <thead>\n",
              "    <tr style=\"text-align: right;\">\n",
              "      <th></th>\n",
              "      <th>total</th>\n",
              "    </tr>\n",
              "    <tr>\n",
              "      <th>InvoiceDate</th>\n",
              "      <th></th>\n",
              "    </tr>\n",
              "  </thead>\n",
              "  <tbody>\n",
              "    <tr>\n",
              "      <th>2011-01-31</th>\n",
              "      <td>560000.260</td>\n",
              "    </tr>\n",
              "    <tr>\n",
              "      <th>2011-02-28</th>\n",
              "      <td>498062.650</td>\n",
              "    </tr>\n",
              "    <tr>\n",
              "      <th>2011-03-31</th>\n",
              "      <td>683267.080</td>\n",
              "    </tr>\n",
              "    <tr>\n",
              "      <th>2011-04-30</th>\n",
              "      <td>493207.121</td>\n",
              "    </tr>\n",
              "    <tr>\n",
              "      <th>2011-05-31</th>\n",
              "      <td>723333.510</td>\n",
              "    </tr>\n",
              "    <tr>\n",
              "      <th>2011-06-30</th>\n",
              "      <td>691123.120</td>\n",
              "    </tr>\n",
              "    <tr>\n",
              "      <th>2011-07-31</th>\n",
              "      <td>681300.111</td>\n",
              "    </tr>\n",
              "    <tr>\n",
              "      <th>2011-08-31</th>\n",
              "      <td>682680.510</td>\n",
              "    </tr>\n",
              "    <tr>\n",
              "      <th>2011-09-30</th>\n",
              "      <td>1019687.622</td>\n",
              "    </tr>\n",
              "    <tr>\n",
              "      <th>2011-10-31</th>\n",
              "      <td>1070704.670</td>\n",
              "    </tr>\n",
              "    <tr>\n",
              "      <th>2011-11-30</th>\n",
              "      <td>1461756.250</td>\n",
              "    </tr>\n",
              "    <tr>\n",
              "      <th>2011-12-31</th>\n",
              "      <td>433668.010</td>\n",
              "    </tr>\n",
              "  </tbody>\n",
              "</table>\n",
              "</div>"
            ],
            "text/plain": [
              "                   total\n",
              "InvoiceDate             \n",
              "2011-01-31    560000.260\n",
              "2011-02-28    498062.650\n",
              "2011-03-31    683267.080\n",
              "2011-04-30    493207.121\n",
              "2011-05-31    723333.510\n",
              "2011-06-30    691123.120\n",
              "2011-07-31    681300.111\n",
              "2011-08-31    682680.510\n",
              "2011-09-30   1019687.622\n",
              "2011-10-31   1070704.670\n",
              "2011-11-30   1461756.250\n",
              "2011-12-31    433668.010"
            ]
          },
          "metadata": {},
          "execution_count": 196
        }
      ]
    },
    {
      "cell_type": "markdown",
      "source": [
        "**GRAF**"
      ],
      "metadata": {
        "id": "asfsGjlrjgTL"
      }
    },
    {
      "cell_type": "code",
      "source": [
        "months_list = ['Jan', 'Feb', 'Mar', 'Apr', 'May', 'Jun', 'Jul', 'Aug', 'Sep', 'Oct', 'Nov', 'Dec']"
      ],
      "metadata": {
        "id": "WByVavNVoZaN"
      },
      "execution_count": 210,
      "outputs": []
    },
    {
      "cell_type": "code",
      "source": [
        "fig, ax = plt.subplots(figsize=(16,8))\n",
        "plt.bar(months_list, df_months['total'])\n",
        "ax.set_title('Měsíční tržby v průběhu roku',fontsize=20)\n",
        "ax.set_ylabel('tržby v milionech',fontsize=14)\n",
        "ax.grid(alpha=0.25)"
      ],
      "metadata": {
        "colab": {
          "base_uri": "https://localhost:8080/",
          "height": 505
        },
        "id": "YIiAMC5qppHb",
        "outputId": "97f72674-4f41-4e3b-b00c-7567397d11cd"
      },
      "execution_count": 217,
      "outputs": [
        {
          "output_type": "display_data",
          "data": {
            "image/png": "[encoded data removed]",
            "text/plain": [
              "<Figure size 1152x576 with 1 Axes>"
            ]
          },
          "metadata": {
            "needs_background": "light"
          }
        }
      ]
    },
    {
      "cell_type": "markdown",
      "source": [
        "osekat na jeden rok"
      ],
      "metadata": {
        "id": "p1Lvv4u6VuUT"
      }
    },
    {
      "cell_type": "code",
      "source": [
        "df_quartal = df_days.query(\"InvoiceDate >= '2011-01-01'\")"
      ],
      "metadata": {
        "id": "mRIePim3xh8m"
      },
      "execution_count": 123,
      "outputs": []
    },
    {
      "cell_type": "code",
      "source": [
        "df_quartal[['total']].groupby(pd.Grouper(freq='q')).sum().sort_values('InvoiceDate')"
      ],
      "metadata": {
        "colab": {
          "base_uri": "https://localhost:8080/",
          "height": 206
        },
        "id": "kOzyCifVVaDB",
        "outputId": "f6124fd9-40f0-4703-bd9c-1280f1327f48"
      },
      "execution_count": 124,
      "outputs": [
        {
          "output_type": "execute_result",
          "data": {
            "text/html": [
              "<div>\n",
              "<style scoped>\n",
              "    .dataframe tbody tr th:only-of-type {\n",
              "        vertical-align: middle;\n",
              "    }\n",
              "\n",
              "    .dataframe tbody tr th {\n",
              "        vertical-align: top;\n",
              "    }\n",
              "\n",
              "    .dataframe thead th {\n",
              "        text-align: right;\n",
              "    }\n",
              "</style>\n",
              "<table border=\"1\" class=\"dataframe\">\n",
              "  <thead>\n",
              "    <tr style=\"text-align: right;\">\n",
              "      <th></th>\n",
              "      <th>total</th>\n",
              "    </tr>\n",
              "    <tr>\n",
              "      <th>InvoiceDate</th>\n",
              "      <th></th>\n",
              "    </tr>\n",
              "  </thead>\n",
              "  <tbody>\n",
              "    <tr>\n",
              "      <th>2011-03-31</th>\n",
              "      <td>1741329.990</td>\n",
              "    </tr>\n",
              "    <tr>\n",
              "      <th>2011-06-30</th>\n",
              "      <td>1907663.751</td>\n",
              "    </tr>\n",
              "    <tr>\n",
              "      <th>2011-09-30</th>\n",
              "      <td>2383668.243</td>\n",
              "    </tr>\n",
              "    <tr>\n",
              "      <th>2011-12-31</th>\n",
              "      <td>2966128.930</td>\n",
              "    </tr>\n",
              "  </tbody>\n",
              "</table>\n",
              "</div>"
            ],
            "text/plain": [
              "                   total\n",
              "InvoiceDate             \n",
              "2011-03-31   1741329.990\n",
              "2011-06-30   1907663.751\n",
              "2011-09-30   2383668.243\n",
              "2011-12-31   2966128.930"
            ]
          },
          "metadata": {},
          "execution_count": 124
        }
      ]
    }
  ]
}