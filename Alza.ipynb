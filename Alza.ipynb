{
  "nbformat": 4,
  "nbformat_minor": 0,
  "metadata": {
    "colab": {
      "name": "Alza.ipynb",
      "provenance": [],
      "collapsed_sections": [],
      "authorship_tag": "ABX9TyPyXilZGu9Vzsl/hs7m/+fF",
      "include_colab_link": true
    },
    "kernelspec": {
      "name": "python3",
      "display_name": "Python 3"
    },
    "language_info": {
      "name": "python"
    }
  },
  "cells": [
    {
      "cell_type": "markdown",
      "metadata": {
        "id": "view-in-github",
        "colab_type": "text"
      },
      "source": [
        "<a href=\"https://colab.research.google.com/github/Aldarion96/Projects/blob/main/Alza.ipynb\" target=\"_parent\"><img src=\"https://colab.research.google.com/assets/colab-badge.svg\" alt=\"Open In Colab\"/></a>"
      ]
    },
    {
      "cell_type": "code",
      "execution_count": 4,
      "metadata": {
        "colab": {
          "base_uri": "https://localhost:8080/"
        },
        "id": "7HkQZ-_TxBha",
        "outputId": "8da3974f-36eb-4dfa-d5da-19a0d467b856"
      },
      "outputs": [
        {
          "output_type": "stream",
          "name": "stdout",
          "text": [
            "       InvoiceNo StockCode  ... CustomerID         Country\n",
            "0         536365    85123A  ...    17850.0  United Kingdom\n",
            "1         536365     71053  ...    17850.0  United Kingdom\n",
            "2         536365    84406B  ...    17850.0  United Kingdom\n",
            "3         536365    84029G  ...    17850.0  United Kingdom\n",
            "4         536365    84029E  ...    17850.0  United Kingdom\n",
            "...          ...       ...  ...        ...             ...\n",
            "541904    581587     22613  ...    12680.0          France\n",
            "541905    581587     22899  ...    12680.0          France\n",
            "541906    581587     23254  ...    12680.0          France\n",
            "541907    581587     23255  ...    12680.0          France\n",
            "541908    581587     22138  ...    12680.0          France\n",
            "\n",
            "[541909 rows x 8 columns]\n"
          ]
        }
      ],
      "source": [
        "import pandas as pd\n",
        "\n",
        "df_retail = pd.read_excel (r'/content/sample_data/Online Retail.xlsx')\n",
        "print (df_retail)"
      ]
    },
    {
      "cell_type": "markdown",
      "source": [
        "**Úprava datasetu:**\n",
        "\n",
        "*čištění*\n",
        "-řádky s Description pouze znaky, wrong, wrongly, \n",
        "- řádky kde není C ale je quantity záporný\n",
        "- prázdné pole Description s nulovou cenou\n",
        "- A = Adjust bad debt\n",
        "- C = zrušené nákupy (10 000 řádků)\n",
        "\n",
        "*Vytvořit*\n",
        "- sloupec flag\n",
        "-sloupec profit (quantity * price)\n",
        "\n",
        "\n",
        "\n",
        "*Vizualizace*\n",
        "- ze které země se nakupuje nejvíce\n",
        "- jaký produkt se nakupuje nejvíce\n",
        "celkový profit/ztráta / za kvartál\n",
        " "
      ],
      "metadata": {
        "id": "p7rcOXKRiHaM"
      }
    },
    {
      "cell_type": "markdown",
      "source": [
        "**Čištění**"
      ],
      "metadata": {
        "id": "qRmJzKik-Gel"
      }
    },
    {
      "cell_type": "markdown",
      "source": [
        "**Odstranení v sloupci *Description***"
      ],
      "metadata": {
        "id": "chPSO4XooJ50"
      }
    },
    {
      "cell_type": "code",
      "source": [
        "clear_df = df_retail[~df_retail.Description.str.contains(\"\\?|wrong|damage|crushed|missing|destroyed|lost|mouldy|wet|thrown|smashed|check|Dotcom|Printing|broken|counted|problem|away|ebay|incorrect\", na=False,case=False)]"
      ],
      "metadata": {
        "id": "TtXVg_fMId73"
      },
      "execution_count": 6,
      "outputs": []
    },
    {
      "cell_type": "code",
      "source": [
        "#clear_df.query(\"Description == 'wrong code'\")"
      ],
      "metadata": {
        "id": "Pc2E6UpumnQw"
      },
      "execution_count": 7,
      "outputs": []
    },
    {
      "cell_type": "markdown",
      "source": [
        "**1. Jaký produkt se prodává nejvíce:**"
      ],
      "metadata": {
        "id": "ty2SKjBqrTKu"
      }
    },
    {
      "cell_type": "markdown",
      "source": [
        "počet nákupů"
      ],
      "metadata": {
        "id": "Io3eN4oz8KJo"
      }
    },
    {
      "cell_type": "code",
      "source": [
        "sells_df = clear_df.assign(flag = 1)\n",
        "sells_df[['Description','StockCode','flag']].groupby(['StockCode','Description']).count().sort_values('flag',ascending = False)"
      ],
      "metadata": {
        "id": "f0T6dNJnrpe0",
        "colab": {
          "base_uri": "https://localhost:8080/",
          "height": 454
        },
        "outputId": "22e8fa2e-a74a-4f0c-89a3-78c8dc13bd43"
      },
      "execution_count": 8,
      "outputs": [
        {
          "output_type": "execute_result",
          "data": {
            "text/html": [
              "<div>\n",
              "<style scoped>\n",
              "    .dataframe tbody tr th:only-of-type {\n",
              "        vertical-align: middle;\n",
              "    }\n",
              "\n",
              "    .dataframe tbody tr th {\n",
              "        vertical-align: top;\n",
              "    }\n",
              "\n",
              "    .dataframe thead th {\n",
              "        text-align: right;\n",
              "    }\n",
              "</style>\n",
              "<table border=\"1\" class=\"dataframe\">\n",
              "  <thead>\n",
              "    <tr style=\"text-align: right;\">\n",
              "      <th></th>\n",
              "      <th></th>\n",
              "      <th>flag</th>\n",
              "    </tr>\n",
              "    <tr>\n",
              "      <th>StockCode</th>\n",
              "      <th>Description</th>\n",
              "      <th></th>\n",
              "    </tr>\n",
              "  </thead>\n",
              "  <tbody>\n",
              "    <tr>\n",
              "      <th>85123A</th>\n",
              "      <th>WHITE HANGING HEART T-LIGHT HOLDER</th>\n",
              "      <td>2302</td>\n",
              "    </tr>\n",
              "    <tr>\n",
              "      <th>22423</th>\n",
              "      <th>REGENCY CAKESTAND 3 TIER</th>\n",
              "      <td>2200</td>\n",
              "    </tr>\n",
              "    <tr>\n",
              "      <th>85099B</th>\n",
              "      <th>JUMBO BAG RED RETROSPOT</th>\n",
              "      <td>2159</td>\n",
              "    </tr>\n",
              "    <tr>\n",
              "      <th>47566</th>\n",
              "      <th>PARTY BUNTING</th>\n",
              "      <td>1727</td>\n",
              "    </tr>\n",
              "    <tr>\n",
              "      <th>20725</th>\n",
              "      <th>LUNCH BAG RED RETROSPOT</th>\n",
              "      <td>1638</td>\n",
              "    </tr>\n",
              "    <tr>\n",
              "      <th>...</th>\n",
              "      <th>...</th>\n",
              "      <td>...</td>\n",
              "    </tr>\n",
              "    <tr>\n",
              "      <th>84968f</th>\n",
              "      <th>SET OF 16 VINTAGE SKY BLUE CUTLERY</th>\n",
              "      <td>1</td>\n",
              "    </tr>\n",
              "    <tr>\n",
              "      <th>35650</th>\n",
              "      <th>VINTAGE BEAD PINK JEWEL STAND</th>\n",
              "      <td>1</td>\n",
              "    </tr>\n",
              "    <tr>\n",
              "      <th>35832</th>\n",
              "      <th>WOOLLY HAT SOCK GLOVE ADVENT STRING</th>\n",
              "      <td>1</td>\n",
              "    </tr>\n",
              "    <tr>\n",
              "      <th>21491</th>\n",
              "      <th>SET OF THREE VINTAGE GIFT WRAPS</th>\n",
              "      <td>1</td>\n",
              "    </tr>\n",
              "    <tr>\n",
              "      <th>m</th>\n",
              "      <th>Manual</th>\n",
              "      <td>1</td>\n",
              "    </tr>\n",
              "  </tbody>\n",
              "</table>\n",
              "<p>4294 rows × 1 columns</p>\n",
              "</div>"
            ],
            "text/plain": [
              "                                               flag\n",
              "StockCode Description                              \n",
              "85123A    WHITE HANGING HEART T-LIGHT HOLDER   2302\n",
              "22423     REGENCY CAKESTAND 3 TIER             2200\n",
              "85099B    JUMBO BAG RED RETROSPOT              2159\n",
              "47566     PARTY BUNTING                        1727\n",
              "20725     LUNCH BAG RED RETROSPOT              1638\n",
              "...                                             ...\n",
              "84968f    SET OF 16 VINTAGE SKY BLUE CUTLERY      1\n",
              "35650     VINTAGE BEAD PINK JEWEL STAND           1\n",
              "35832     WOOLLY HAT SOCK GLOVE ADVENT STRING     1\n",
              "21491     SET OF THREE VINTAGE GIFT WRAPS         1\n",
              "m         Manual                                  1\n",
              "\n",
              "[4294 rows x 1 columns]"
            ]
          },
          "metadata": {},
          "execution_count": 8
        }
      ]
    },
    {
      "cell_type": "markdown",
      "source": [
        "**počet prodaných kusů**"
      ],
      "metadata": {
        "id": "HJPNzAkO8Rqd"
      }
    },
    {
      "cell_type": "code",
      "source": [
        "sells_df[['Description','StockCode','Quantity']].groupby(['StockCode','Description']).sum().sort_values('Quantity',ascending = False).head()"
      ],
      "metadata": {
        "id": "EL7lEtPHtPwh",
        "colab": {
          "base_uri": "https://localhost:8080/",
          "height": 237
        },
        "outputId": "020584f3-753a-4a9c-e8ec-e24668176087"
      },
      "execution_count": 9,
      "outputs": [
        {
          "output_type": "execute_result",
          "data": {
            "text/html": [
              "<div>\n",
              "<style scoped>\n",
              "    .dataframe tbody tr th:only-of-type {\n",
              "        vertical-align: middle;\n",
              "    }\n",
              "\n",
              "    .dataframe tbody tr th {\n",
              "        vertical-align: top;\n",
              "    }\n",
              "\n",
              "    .dataframe thead th {\n",
              "        text-align: right;\n",
              "    }\n",
              "</style>\n",
              "<table border=\"1\" class=\"dataframe\">\n",
              "  <thead>\n",
              "    <tr style=\"text-align: right;\">\n",
              "      <th></th>\n",
              "      <th></th>\n",
              "      <th>Quantity</th>\n",
              "    </tr>\n",
              "    <tr>\n",
              "      <th>StockCode</th>\n",
              "      <th>Description</th>\n",
              "      <th></th>\n",
              "    </tr>\n",
              "  </thead>\n",
              "  <tbody>\n",
              "    <tr>\n",
              "      <th>84077</th>\n",
              "      <th>WORLD WAR 2 GLIDERS ASSTD DESIGNS</th>\n",
              "      <td>53847</td>\n",
              "    </tr>\n",
              "    <tr>\n",
              "      <th>85099B</th>\n",
              "      <th>JUMBO BAG RED RETROSPOT</th>\n",
              "      <td>47363</td>\n",
              "    </tr>\n",
              "    <tr>\n",
              "      <th>84879</th>\n",
              "      <th>ASSORTED COLOUR BIRD ORNAMENT</th>\n",
              "      <td>36381</td>\n",
              "    </tr>\n",
              "    <tr>\n",
              "      <th>22197</th>\n",
              "      <th>POPCORN HOLDER</th>\n",
              "      <td>36334</td>\n",
              "    </tr>\n",
              "    <tr>\n",
              "      <th>21212</th>\n",
              "      <th>PACK OF 72 RETROSPOT CAKE CASES</th>\n",
              "      <td>36039</td>\n",
              "    </tr>\n",
              "  </tbody>\n",
              "</table>\n",
              "</div>"
            ],
            "text/plain": [
              "                                             Quantity\n",
              "StockCode Description                                \n",
              "84077     WORLD WAR 2 GLIDERS ASSTD DESIGNS     53847\n",
              "85099B    JUMBO BAG RED RETROSPOT               47363\n",
              "84879     ASSORTED COLOUR BIRD ORNAMENT         36381\n",
              "22197     POPCORN HOLDER                        36334\n",
              "21212     PACK OF 72 RETROSPOT CAKE CASES       36039"
            ]
          },
          "metadata": {},
          "execution_count": 9
        }
      ]
    },
    {
      "cell_type": "markdown",
      "source": [
        "**Ve které zemi se prodává nejvíce:**"
      ],
      "metadata": {
        "id": "nKv15qh2-oXz"
      }
    },
    {
      "cell_type": "markdown",
      "source": [
        "**Vytvoření pmocných sloupců.**"
      ],
      "metadata": {
        "id": "SGyzksp7FyKg"
      }
    },
    {
      "cell_type": "markdown",
      "source": [
        "\n",
        "- **total** = celkový výnos/ztráta\n",
        "- **flag** = počet zakoupení\n",
        "- **quantity** = čeho se prodalo nejvíce / nejméně\n",
        "\n",
        "\n"
      ],
      "metadata": {
        "id": "Jb19mGGtG2mL"
      }
    },
    {
      "cell_type": "code",
      "source": [
        "df_countries = df_retail[['Country']].assign(flag = 1).groupby('Country').count().sort_values('flag',ascending = False)\n",
        "df_countries"
      ],
      "metadata": {
        "id": "uIDQIjzj_DJO"
      },
      "execution_count": null,
      "outputs": []
    },
    {
      "cell_type": "markdown",
      "source": [
        "**Zisk / Ztráta**"
      ],
      "metadata": {
        "id": "1o6vKi4gCOnk"
      }
    },
    {
      "cell_type": "markdown",
      "source": [
        "Tabulka s vypočítanou ziskovostí či ztrátovostí"
      ],
      "metadata": {
        "id": "K4O1FYVdGIQQ"
      }
    },
    {
      "cell_type": "code",
      "source": [
        "df_profit = df_retail.assign(total = (df_retail.Quantity * df_retail.UnitPrice))\n",
        "df_profit.head(3)\n"
      ],
      "metadata": {
        "colab": {
          "base_uri": "https://localhost:8080/",
          "height": 143
        },
        "id": "_Gq12XwuCV7e",
        "outputId": "0a949eae-1dc9-4c70-9417-35ebecac6c99"
      },
      "execution_count": 33,
      "outputs": [
        {
          "output_type": "execute_result",
          "data": {
            "text/html": [
              "<div>\n",
              "<style scoped>\n",
              "    .dataframe tbody tr th:only-of-type {\n",
              "        vertical-align: middle;\n",
              "    }\n",
              "\n",
              "    .dataframe tbody tr th {\n",
              "        vertical-align: top;\n",
              "    }\n",
              "\n",
              "    .dataframe thead th {\n",
              "        text-align: right;\n",
              "    }\n",
              "</style>\n",
              "<table border=\"1\" class=\"dataframe\">\n",
              "  <thead>\n",
              "    <tr style=\"text-align: right;\">\n",
              "      <th></th>\n",
              "      <th>InvoiceNo</th>\n",
              "      <th>StockCode</th>\n",
              "      <th>Description</th>\n",
              "      <th>Quantity</th>\n",
              "      <th>InvoiceDate</th>\n",
              "      <th>UnitPrice</th>\n",
              "      <th>CustomerID</th>\n",
              "      <th>Country</th>\n",
              "      <th>total</th>\n",
              "    </tr>\n",
              "  </thead>\n",
              "  <tbody>\n",
              "    <tr>\n",
              "      <th>0</th>\n",
              "      <td>536365</td>\n",
              "      <td>85123A</td>\n",
              "      <td>WHITE HANGING HEART T-LIGHT HOLDER</td>\n",
              "      <td>6</td>\n",
              "      <td>2010-12-01 08:26:00</td>\n",
              "      <td>2.55</td>\n",
              "      <td>17850.0</td>\n",
              "      <td>United Kingdom</td>\n",
              "      <td>15.30</td>\n",
              "    </tr>\n",
              "    <tr>\n",
              "      <th>1</th>\n",
              "      <td>536365</td>\n",
              "      <td>71053</td>\n",
              "      <td>WHITE METAL LANTERN</td>\n",
              "      <td>6</td>\n",
              "      <td>2010-12-01 08:26:00</td>\n",
              "      <td>3.39</td>\n",
              "      <td>17850.0</td>\n",
              "      <td>United Kingdom</td>\n",
              "      <td>20.34</td>\n",
              "    </tr>\n",
              "    <tr>\n",
              "      <th>2</th>\n",
              "      <td>536365</td>\n",
              "      <td>84406B</td>\n",
              "      <td>CREAM CUPID HEARTS COAT HANGER</td>\n",
              "      <td>8</td>\n",
              "      <td>2010-12-01 08:26:00</td>\n",
              "      <td>2.75</td>\n",
              "      <td>17850.0</td>\n",
              "      <td>United Kingdom</td>\n",
              "      <td>22.00</td>\n",
              "    </tr>\n",
              "  </tbody>\n",
              "</table>\n",
              "</div>"
            ],
            "text/plain": [
              "  InvoiceNo StockCode  ...         Country  total\n",
              "0    536365    85123A  ...  United Kingdom  15.30\n",
              "1    536365     71053  ...  United Kingdom  20.34\n",
              "2    536365    84406B  ...  United Kingdom  22.00\n",
              "\n",
              "[3 rows x 9 columns]"
            ]
          },
          "metadata": {},
          "execution_count": 33
        }
      ]
    },
    {
      "cell_type": "code",
      "source": [
        "df_profit = df_profit[['Description','StockCode','total']].groupby(['StockCode','Description']).sum().sort_values('total',ascending = False)"
      ],
      "metadata": {
        "id": "B6zYdEXJDuo5"
      },
      "execution_count": 34,
      "outputs": []
    },
    {
      "cell_type": "code",
      "source": [
        "df_profit = df_profit.query(\"total != 0\").sort_values('total', ascending = False)\n",
        "df_profit"
      ],
      "metadata": {
        "id": "sfKgwm6CFQO9",
        "colab": {
          "base_uri": "https://localhost:8080/",
          "height": 454
        },
        "outputId": "9684c098-083d-4c68-e2c3-810088709af0"
      },
      "execution_count": 37,
      "outputs": [
        {
          "output_type": "execute_result",
          "data": {
            "text/html": [
              "<div>\n",
              "<style scoped>\n",
              "    .dataframe tbody tr th:only-of-type {\n",
              "        vertical-align: middle;\n",
              "    }\n",
              "\n",
              "    .dataframe tbody tr th {\n",
              "        vertical-align: top;\n",
              "    }\n",
              "\n",
              "    .dataframe thead th {\n",
              "        text-align: right;\n",
              "    }\n",
              "</style>\n",
              "<table border=\"1\" class=\"dataframe\">\n",
              "  <thead>\n",
              "    <tr style=\"text-align: right;\">\n",
              "      <th></th>\n",
              "      <th></th>\n",
              "      <th>total</th>\n",
              "    </tr>\n",
              "    <tr>\n",
              "      <th>StockCode</th>\n",
              "      <th>Description</th>\n",
              "      <th></th>\n",
              "    </tr>\n",
              "  </thead>\n",
              "  <tbody>\n",
              "    <tr>\n",
              "      <th>DOT</th>\n",
              "      <th>DOTCOM POSTAGE</th>\n",
              "      <td>206245.480</td>\n",
              "    </tr>\n",
              "    <tr>\n",
              "      <th>22423</th>\n",
              "      <th>REGENCY CAKESTAND 3 TIER</th>\n",
              "      <td>164762.190</td>\n",
              "    </tr>\n",
              "    <tr>\n",
              "      <th>47566</th>\n",
              "      <th>PARTY BUNTING</th>\n",
              "      <td>98302.980</td>\n",
              "    </tr>\n",
              "    <tr>\n",
              "      <th>85123A</th>\n",
              "      <th>WHITE HANGING HEART T-LIGHT HOLDER</th>\n",
              "      <td>97715.990</td>\n",
              "    </tr>\n",
              "    <tr>\n",
              "      <th>85099B</th>\n",
              "      <th>JUMBO BAG RED RETROSPOT</th>\n",
              "      <td>92356.030</td>\n",
              "    </tr>\n",
              "    <tr>\n",
              "      <th>...</th>\n",
              "      <th>...</th>\n",
              "      <td>...</td>\n",
              "    </tr>\n",
              "    <tr>\n",
              "      <th>BANK CHARGES</th>\n",
              "      <th>Bank Charges</th>\n",
              "      <td>-7175.639</td>\n",
              "    </tr>\n",
              "    <tr>\n",
              "      <th>CRUK</th>\n",
              "      <th>CRUK Commission</th>\n",
              "      <td>-7933.430</td>\n",
              "    </tr>\n",
              "    <tr>\n",
              "      <th>B</th>\n",
              "      <th>Adjust bad debt</th>\n",
              "      <td>-11062.060</td>\n",
              "    </tr>\n",
              "    <tr>\n",
              "      <th>M</th>\n",
              "      <th>Manual</th>\n",
              "      <td>-68674.190</td>\n",
              "    </tr>\n",
              "    <tr>\n",
              "      <th>AMAZONFEE</th>\n",
              "      <th>AMAZON FEE</th>\n",
              "      <td>-221520.500</td>\n",
              "    </tr>\n",
              "  </tbody>\n",
              "</table>\n",
              "<p>4173 rows × 1 columns</p>\n",
              "</div>"
            ],
            "text/plain": [
              "                                                      total\n",
              "StockCode    Description                                   \n",
              "DOT          DOTCOM POSTAGE                      206245.480\n",
              "22423        REGENCY CAKESTAND 3 TIER            164762.190\n",
              "47566        PARTY BUNTING                        98302.980\n",
              "85123A       WHITE HANGING HEART T-LIGHT HOLDER   97715.990\n",
              "85099B       JUMBO BAG RED RETROSPOT              92356.030\n",
              "...                                                     ...\n",
              "BANK CHARGES Bank Charges                         -7175.639\n",
              "CRUK         CRUK Commission                      -7933.430\n",
              "B            Adjust bad debt                     -11062.060\n",
              "M            Manual                              -68674.190\n",
              "AMAZONFEE    AMAZON FEE                         -221520.500\n",
              "\n",
              "[4173 rows x 1 columns]"
            ]
          },
          "metadata": {},
          "execution_count": 37
        }
      ]
    },
    {
      "cell_type": "markdown",
      "source": [
        "**Ziskovost celkově za dny/měsíce/kvartály**"
      ],
      "metadata": {
        "id": "qhT714oFGYeG"
      }
    },
    {
      "cell_type": "code",
      "source": [
        "df_days = df_retail.assign(total = (df_retail.Quantity * df_retail.UnitPrice))"
      ],
      "metadata": {
        "id": "JMTSzoSEUF97"
      },
      "execution_count": 16,
      "outputs": []
    },
    {
      "cell_type": "code",
      "source": [
        "df_days.index = pd.to_datetime(df_days['InvoiceDate'],format='%m/%d/%y %I:%M%p')"
      ],
      "metadata": {
        "id": "X1HROlseUO8z"
      },
      "execution_count": 18,
      "outputs": []
    },
    {
      "cell_type": "code",
      "source": [
        "df_days[['total']].groupby(pd.Grouper(freq='d')).sum().sort_values('InvoiceDate')\n"
      ],
      "metadata": {
        "colab": {
          "base_uri": "https://localhost:8080/",
          "height": 454
        },
        "id": "32ZM9JIyVAUA",
        "outputId": "fe131e29-164a-42b7-a234-8913975a8c37"
      },
      "execution_count": 19,
      "outputs": [
        {
          "output_type": "execute_result",
          "data": {
            "text/html": [
              "<div>\n",
              "<style scoped>\n",
              "    .dataframe tbody tr th:only-of-type {\n",
              "        vertical-align: middle;\n",
              "    }\n",
              "\n",
              "    .dataframe tbody tr th {\n",
              "        vertical-align: top;\n",
              "    }\n",
              "\n",
              "    .dataframe thead th {\n",
              "        text-align: right;\n",
              "    }\n",
              "</style>\n",
              "<table border=\"1\" class=\"dataframe\">\n",
              "  <thead>\n",
              "    <tr style=\"text-align: right;\">\n",
              "      <th></th>\n",
              "      <th>total</th>\n",
              "    </tr>\n",
              "    <tr>\n",
              "      <th>InvoiceDate</th>\n",
              "      <th></th>\n",
              "    </tr>\n",
              "  </thead>\n",
              "  <tbody>\n",
              "    <tr>\n",
              "      <th>2010-12-01</th>\n",
              "      <td>58635.56</td>\n",
              "    </tr>\n",
              "    <tr>\n",
              "      <th>2010-12-02</th>\n",
              "      <td>46207.28</td>\n",
              "    </tr>\n",
              "    <tr>\n",
              "      <th>2010-12-03</th>\n",
              "      <td>45620.46</td>\n",
              "    </tr>\n",
              "    <tr>\n",
              "      <th>2010-12-04</th>\n",
              "      <td>0.00</td>\n",
              "    </tr>\n",
              "    <tr>\n",
              "      <th>2010-12-05</th>\n",
              "      <td>31383.95</td>\n",
              "    </tr>\n",
              "    <tr>\n",
              "      <th>...</th>\n",
              "      <td>...</td>\n",
              "    </tr>\n",
              "    <tr>\n",
              "      <th>2011-12-05</th>\n",
              "      <td>57751.32</td>\n",
              "    </tr>\n",
              "    <tr>\n",
              "      <th>2011-12-06</th>\n",
              "      <td>54228.37</td>\n",
              "    </tr>\n",
              "    <tr>\n",
              "      <th>2011-12-07</th>\n",
              "      <td>75076.22</td>\n",
              "    </tr>\n",
              "    <tr>\n",
              "      <th>2011-12-08</th>\n",
              "      <td>81417.78</td>\n",
              "    </tr>\n",
              "    <tr>\n",
              "      <th>2011-12-09</th>\n",
              "      <td>32131.53</td>\n",
              "    </tr>\n",
              "  </tbody>\n",
              "</table>\n",
              "<p>374 rows × 1 columns</p>\n",
              "</div>"
            ],
            "text/plain": [
              "                total\n",
              "InvoiceDate          \n",
              "2010-12-01   58635.56\n",
              "2010-12-02   46207.28\n",
              "2010-12-03   45620.46\n",
              "2010-12-04       0.00\n",
              "2010-12-05   31383.95\n",
              "...               ...\n",
              "2011-12-05   57751.32\n",
              "2011-12-06   54228.37\n",
              "2011-12-07   75076.22\n",
              "2011-12-08   81417.78\n",
              "2011-12-09   32131.53\n",
              "\n",
              "[374 rows x 1 columns]"
            ]
          },
          "metadata": {},
          "execution_count": 19
        }
      ]
    },
    {
      "cell_type": "code",
      "source": [
        "df_months = df_days.query(\"InvoiceDate >= '2011-01-01'\")\n",
        "df_months[['total']].groupby(pd.Grouper(freq='m')).sum().sort_values('InvoiceDate')\n"
      ],
      "metadata": {
        "colab": {
          "base_uri": "https://localhost:8080/",
          "height": 456
        },
        "id": "MtQ8KkstVUc_",
        "outputId": "13613fb6-afd9-4bfd-f670-b7915bcec8b2"
      },
      "execution_count": 21,
      "outputs": [
        {
          "output_type": "execute_result",
          "data": {
            "text/html": [
              "<div>\n",
              "<style scoped>\n",
              "    .dataframe tbody tr th:only-of-type {\n",
              "        vertical-align: middle;\n",
              "    }\n",
              "\n",
              "    .dataframe tbody tr th {\n",
              "        vertical-align: top;\n",
              "    }\n",
              "\n",
              "    .dataframe thead th {\n",
              "        text-align: right;\n",
              "    }\n",
              "</style>\n",
              "<table border=\"1\" class=\"dataframe\">\n",
              "  <thead>\n",
              "    <tr style=\"text-align: right;\">\n",
              "      <th></th>\n",
              "      <th>total</th>\n",
              "    </tr>\n",
              "    <tr>\n",
              "      <th>InvoiceDate</th>\n",
              "      <th></th>\n",
              "    </tr>\n",
              "  </thead>\n",
              "  <tbody>\n",
              "    <tr>\n",
              "      <th>2011-01-31</th>\n",
              "      <td>560000.260</td>\n",
              "    </tr>\n",
              "    <tr>\n",
              "      <th>2011-02-28</th>\n",
              "      <td>498062.650</td>\n",
              "    </tr>\n",
              "    <tr>\n",
              "      <th>2011-03-31</th>\n",
              "      <td>683267.080</td>\n",
              "    </tr>\n",
              "    <tr>\n",
              "      <th>2011-04-30</th>\n",
              "      <td>493207.121</td>\n",
              "    </tr>\n",
              "    <tr>\n",
              "      <th>2011-05-31</th>\n",
              "      <td>723333.510</td>\n",
              "    </tr>\n",
              "    <tr>\n",
              "      <th>2011-06-30</th>\n",
              "      <td>691123.120</td>\n",
              "    </tr>\n",
              "    <tr>\n",
              "      <th>2011-07-31</th>\n",
              "      <td>681300.111</td>\n",
              "    </tr>\n",
              "    <tr>\n",
              "      <th>2011-08-31</th>\n",
              "      <td>682680.510</td>\n",
              "    </tr>\n",
              "    <tr>\n",
              "      <th>2011-09-30</th>\n",
              "      <td>1019687.622</td>\n",
              "    </tr>\n",
              "    <tr>\n",
              "      <th>2011-10-31</th>\n",
              "      <td>1070704.670</td>\n",
              "    </tr>\n",
              "    <tr>\n",
              "      <th>2011-11-30</th>\n",
              "      <td>1461756.250</td>\n",
              "    </tr>\n",
              "    <tr>\n",
              "      <th>2011-12-31</th>\n",
              "      <td>433668.010</td>\n",
              "    </tr>\n",
              "  </tbody>\n",
              "</table>\n",
              "</div>"
            ],
            "text/plain": [
              "                   total\n",
              "InvoiceDate             \n",
              "2011-01-31    560000.260\n",
              "2011-02-28    498062.650\n",
              "2011-03-31    683267.080\n",
              "2011-04-30    493207.121\n",
              "2011-05-31    723333.510\n",
              "2011-06-30    691123.120\n",
              "2011-07-31    681300.111\n",
              "2011-08-31    682680.510\n",
              "2011-09-30   1019687.622\n",
              "2011-10-31   1070704.670\n",
              "2011-11-30   1461756.250\n",
              "2011-12-31    433668.010"
            ]
          },
          "metadata": {},
          "execution_count": 21
        }
      ]
    },
    {
      "cell_type": "markdown",
      "source": [
        "osekat na jeden rok"
      ],
      "metadata": {
        "id": "p1Lvv4u6VuUT"
      }
    },
    {
      "cell_type": "code",
      "source": [
        "df_quartal = df_days.query(\"InvoiceDate >= '2011-01-01'\")"
      ],
      "metadata": {
        "id": "mRIePim3xh8m"
      },
      "execution_count": 23,
      "outputs": []
    },
    {
      "cell_type": "code",
      "source": [
        "df_quartal[['total']].groupby(pd.Grouper(freq='q')).sum().sort_values('InvoiceDate')"
      ],
      "metadata": {
        "colab": {
          "base_uri": "https://localhost:8080/",
          "height": 206
        },
        "id": "kOzyCifVVaDB",
        "outputId": "193e9b57-44de-4d3a-c5ea-422e2bb688b5"
      },
      "execution_count": 24,
      "outputs": [
        {
          "output_type": "execute_result",
          "data": {
            "text/html": [
              "<div>\n",
              "<style scoped>\n",
              "    .dataframe tbody tr th:only-of-type {\n",
              "        vertical-align: middle;\n",
              "    }\n",
              "\n",
              "    .dataframe tbody tr th {\n",
              "        vertical-align: top;\n",
              "    }\n",
              "\n",
              "    .dataframe thead th {\n",
              "        text-align: right;\n",
              "    }\n",
              "</style>\n",
              "<table border=\"1\" class=\"dataframe\">\n",
              "  <thead>\n",
              "    <tr style=\"text-align: right;\">\n",
              "      <th></th>\n",
              "      <th>total</th>\n",
              "    </tr>\n",
              "    <tr>\n",
              "      <th>InvoiceDate</th>\n",
              "      <th></th>\n",
              "    </tr>\n",
              "  </thead>\n",
              "  <tbody>\n",
              "    <tr>\n",
              "      <th>2011-03-31</th>\n",
              "      <td>1741329.990</td>\n",
              "    </tr>\n",
              "    <tr>\n",
              "      <th>2011-06-30</th>\n",
              "      <td>1907663.751</td>\n",
              "    </tr>\n",
              "    <tr>\n",
              "      <th>2011-09-30</th>\n",
              "      <td>2383668.243</td>\n",
              "    </tr>\n",
              "    <tr>\n",
              "      <th>2011-12-31</th>\n",
              "      <td>2966128.930</td>\n",
              "    </tr>\n",
              "  </tbody>\n",
              "</table>\n",
              "</div>"
            ],
            "text/plain": [
              "                   total\n",
              "InvoiceDate             \n",
              "2011-03-31   1741329.990\n",
              "2011-06-30   1907663.751\n",
              "2011-09-30   2383668.243\n",
              "2011-12-31   2966128.930"
            ]
          },
          "metadata": {},
          "execution_count": 24
        }
      ]
    }
  ]
}