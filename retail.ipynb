{
  "cells": [
    {
      "cell_type": "markdown",
      "metadata": {
        "id": "view-in-github",
        "colab_type": "text"
      },
      "source": [
        "<a href=\"https://colab.research.google.com/github/Aldarion96/Projects/blob/main/retail.ipynb\" target=\"_parent\"><img src=\"https://colab.research.google.com/assets/colab-badge.svg\" alt=\"Open In Colab\"/></a>"
      ]
    },
    {
      "cell_type": "code",
      "execution_count": null,
      "metadata": {
        "colab": {
          "base_uri": "https://localhost:8080/"
        },
        "id": "7HkQZ-_TxBha",
        "outputId": "8643046c-d38f-4872-9232-5494702a6d85"
      },
      "outputs": [
        {
          "name": "stdout",
          "output_type": "stream",
          "text": [
            "       InvoiceNo StockCode  ... CustomerID         Country\n",
            "0         536365    85123A  ...    17850.0  United Kingdom\n",
            "1         536365     71053  ...    17850.0  United Kingdom\n",
            "2         536365    84406B  ...    17850.0  United Kingdom\n",
            "3         536365    84029G  ...    17850.0  United Kingdom\n",
            "4         536365    84029E  ...    17850.0  United Kingdom\n",
            "...          ...       ...  ...        ...             ...\n",
            "541904    581587     22613  ...    12680.0          France\n",
            "541905    581587     22899  ...    12680.0          France\n",
            "541906    581587     23254  ...    12680.0          France\n",
            "541907    581587     23255  ...    12680.0          France\n",
            "541908    581587     22138  ...    12680.0          France\n",
            "\n",
            "[541909 rows x 8 columns]\n"
          ]
        }
      ],
      "source": [
        "import pandas as pd\n",
        "import matplotlib.pyplot as plt\n",
        "import numpy as np\n",
        "from matplotlib.ticker import (MultipleLocator, FormatStrFormatter,\n",
        "                               AutoMinorLocator)\n",
        "import numpy as np\n",
        "\n",
        "df_retail = pd.read_excel (r'/content/sample_data/Online Retail.xlsx')\n",
        "print (df_retail)"
      ]
    },
    {
      "cell_type": "markdown",
      "metadata": {
        "id": "p7rcOXKRiHaM"
      },
      "source": [
        "**Úprava datasetu:**\n",
        "\n",
        "*čištění*\n",
        "-řádky s Description pouze znaky,atd., lowercase\n",
        "- prázdné pole Description s nulovou cenou\n",
        "- A = Adjust bad debt\n",
        "- C = zrušené nákupy (10 000 řádků)\n",
        "\n",
        "*Vytvořit*\n",
        "- sloupec flag\n",
        "-sloupec profit (quantity * price)\n",
        "\n",
        "\n",
        "\n",
        "*Vizualizace*\n",
        "- jaký produkt se nakupuje nejvíce\n",
        " - celkový profit/ztráta / za kvartál\n",
        " "
      ]
    },
    {
      "cell_type": "markdown",
      "metadata": {
        "id": "A2J23WLX6G09"
      },
      "source": [
        "**Identifikování chybějících dat**"
      ]
    },
    {
      "cell_type": "code",
      "execution_count": null,
      "metadata": {
        "colab": {
          "base_uri": "https://localhost:8080/"
        },
        "id": "rJnPH0aJ1M4l",
        "outputId": "1955403c-a388-4fc9-ee5e-680cda07b714"
      },
      "outputs": [
        {
          "name": "stdout",
          "output_type": "stream",
          "text": [
            "<class 'pandas.core.frame.DataFrame'>\n",
            "RangeIndex: 541909 entries, 0 to 541908\n",
            "Data columns (total 8 columns):\n",
            " #   Column       Non-Null Count   Dtype         \n",
            "---  ------       --------------   -----         \n",
            " 0   InvoiceNo    541909 non-null  object        \n",
            " 1   StockCode    541909 non-null  object        \n",
            " 2   Description  540455 non-null  object        \n",
            " 3   Quantity     541909 non-null  int64         \n",
            " 4   InvoiceDate  541909 non-null  datetime64[ns]\n",
            " 5   UnitPrice    541909 non-null  float64       \n",
            " 6   CustomerID   406829 non-null  float64       \n",
            " 7   Country      541909 non-null  object        \n",
            "dtypes: datetime64[ns](1), float64(2), int64(1), object(4)\n",
            "memory usage: 33.1+ MB\n",
            "None\n",
            "InvoiceNo              object\n",
            "StockCode              object\n",
            "Description            object\n",
            "Quantity                int64\n",
            "InvoiceDate    datetime64[ns]\n",
            "UnitPrice             float64\n",
            "CustomerID            float64\n",
            "Country                object\n",
            "dtype: object\n",
            "(541909, 8)\n"
          ]
        }
      ],
      "source": [
        "print(df_retail.info())\n",
        "print(df_retail.dtypes)\n",
        "print(df_retail.shape)"
      ]
    },
    {
      "cell_type": "code",
      "execution_count": null,
      "metadata": {
        "colab": {
          "base_uri": "https://localhost:8080/"
        },
        "id": "kkXZg2XD1Mxg",
        "outputId": "cf9e379a-9353-498f-aedc-0437c26d0f95"
      },
      "outputs": [
        {
          "data": {
            "text/plain": [
              "InvoiceNo           0\n",
              "StockCode           0\n",
              "Description      1454\n",
              "Quantity            0\n",
              "InvoiceDate         0\n",
              "UnitPrice           0\n",
              "CustomerID     135080\n",
              "Country             0\n",
              "dtype: int64"
            ]
          },
          "execution_count": 304,
          "metadata": {},
          "output_type": "execute_result"
        }
      ],
      "source": [
        "df_retail.isnull().sum()"
      ]
    },
    {
      "cell_type": "markdown",
      "metadata": {
        "id": "XhnzkeUwtloj"
      },
      "source": [
        "Kolik % dat chybí v jednotlivých řádcích"
      ]
    },
    {
      "cell_type": "code",
      "execution_count": null,
      "metadata": {
        "colab": {
          "base_uri": "https://localhost:8080/"
        },
        "id": "ToVQT41Q1Moj",
        "outputId": "24c69f18-6432-4c3a-bb2b-64e55c2f0051"
      },
      "outputs": [
        {
          "name": "stdout",
          "output_type": "stream",
          "text": [
            "InvoiceNo: 0.0%\n",
            "StockCode: 0.0%\n",
            "Description: 0.27%\n",
            "Quantity: 0.0%\n",
            "InvoiceDate: 0.0%\n",
            "UnitPrice: 0.0%\n",
            "CustomerID: 24.93%\n",
            "Country: 0.0%\n"
          ]
        }
      ],
      "source": [
        "for column in df_retail.columns:\n",
        "    percentage = df_retail[column].isnull().mean()\n",
        "    print(f'{column}: {round(percentage*100, 2)}%')"
      ]
    },
    {
      "cell_type": "markdown",
      "metadata": {
        "id": "qRmJzKik-Gel"
      },
      "source": [
        "**Čištění**"
      ]
    },
    {
      "cell_type": "markdown",
      "metadata": {
        "id": "SVZQuP1hKXqJ"
      },
      "source": [
        "*Duplicitiní hodnoty*"
      ]
    },
    {
      "cell_type": "code",
      "execution_count": null,
      "metadata": {
        "colab": {
          "base_uri": "https://localhost:8080/"
        },
        "id": "BeCeuvaQn86q",
        "outputId": "1eae5d5c-5bab-48c6-f980-a7cbc7d203d9"
      },
      "outputs": [
        {
          "name": "stdout",
          "output_type": "stream",
          "text": [
            "(536641, 8)\n",
            "(541909, 8)\n",
            "5268\n"
          ]
        }
      ],
      "source": [
        "shape_a = df_retail.drop_duplicates()\n",
        "shape_a = shape_a.shape\n",
        "shape_b = df_retail.shape\n",
        "\n",
        "duplicates=shape_b[0]-shape_a[0]\n",
        "print(shape_a)\n",
        "print(shape_b )\n",
        "print(duplicates)\n"
      ]
    },
    {
      "cell_type": "code",
      "execution_count": null,
      "metadata": {
        "id": "2dleh2i1Bd6i"
      },
      "outputs": [],
      "source": [
        "clear_df = df_retail.drop_duplicates()"
      ]
    },
    {
      "cell_type": "markdown",
      "metadata": {
        "id": "3CKMs3imtx-D"
      },
      "source": [
        "Čištění podle klíčových slov"
      ]
    },
    {
      "cell_type": "code",
      "execution_count": null,
      "metadata": {
        "colab": {
          "background_save": true
        },
        "id": "f094KpwfFjac"
      },
      "outputs": [],
      "source": [
        "clear_df = df_retail[~df_retail.Description.str.contains(\"\\?|wrong|damage|crushed|missing|destroyed|lost|mouldy|wet|thrown|smashed|check|Dotcom|Printing|broken|counted|problem|away|ebay|incorrect\", na=False,case=False)]\n"
      ]
    },
    {
      "cell_type": "markdown",
      "metadata": {
        "id": "chPSO4XooJ50"
      },
      "source": [
        "**Odstranění v sloupci Description**\n",
        "\n",
        "- vytvoření pomocného listu s LowerCase slovy\n",
        "- ponecháme pouze názvy produktů"
      ]
    },
    {
      "cell_type": "code",
      "execution_count": null,
      "metadata": {
        "colab": {
          "background_save": true
        },
        "id": "TtXVg_fMId73"
      },
      "outputs": [],
      "source": [
        "clear_df = df_retail.drop_duplicates()\n",
        "\n",
        "clear_df = df_retail[~df_retail.Description.str.contains(\"\\?|wrong|damage|crushed|missing|destroyed|lost|mouldy|wet|thrown|smashed|check|Dotcom|Printing|broken|counted|problem|away|ebay|incorrect|20713\", na=False,case=False)]\n",
        "\n",
        "\n",
        "\n",
        "my_list = clear_df['Description'].str.extractall(r'(\\b[a-z]+\\b)')[0].tolist()\n",
        "my_list = list(dict.fromkeys(my_list))\n",
        "\n",
        "clear_df = clear_df[~clear_df['Description'].str.contains('|'.join(my_list),na=False)]"
      ]
    },
    {
      "cell_type": "code",
      "execution_count": null,
      "metadata": {
        "colab": {
          "background_save": true
        },
        "id": "brY2iSWOJcDt",
        "outputId": "1ddf94f8-1297-44a3-cc8a-5b961f4aa452"
      },
      "outputs": [
        {
          "name": "stdout",
          "output_type": "stream",
          "text": [
            "(539091, 8)\n",
            "(536641, 8)\n"
          ]
        }
      ],
      "source": [
        "print(clear_df.shape)\n",
        "print(aclear_df.shape)"
      ]
    },
    {
      "cell_type": "markdown",
      "metadata": {
        "id": "ty2SKjBqrTKu"
      },
      "source": [
        "**1. Jaký produkt se prodává nejvíce:**"
      ]
    },
    {
      "cell_type": "markdown",
      "metadata": {
        "id": "Io3eN4oz8KJo"
      },
      "source": [
        "Podle počtu nákupů"
      ]
    },
    {
      "cell_type": "code",
      "execution_count": null,
      "metadata": {
        "colab": {
          "background_save": true
        },
        "id": "f0T6dNJnrpe0"
      },
      "outputs": [],
      "source": [
        "sells_df = clear_df.assign(sells = 1)\n",
        "sells_df = sells_df[['Description','sells']].groupby(['Description']).count().sort_values('sells',ascending = False)"
      ]
    },
    {
      "cell_type": "markdown",
      "metadata": {
        "id": "3nMjNURsUmxT"
      },
      "source": [
        "Prvních a posledních 5 "
      ]
    },
    {
      "cell_type": "code",
      "execution_count": null,
      "metadata": {
        "colab": {
          "background_save": true
        },
        "id": "Fa4G6p0sT4QX",
        "outputId": "3e0a2273-382a-40d0-fcc3-83a75b8bd500"
      },
      "outputs": [
        {
          "data": {
            "text/html": [
              "<div>\n",
              "<style scoped>\n",
              "    .dataframe tbody tr th:only-of-type {\n",
              "        vertical-align: middle;\n",
              "    }\n",
              "\n",
              "    .dataframe tbody tr th {\n",
              "        vertical-align: top;\n",
              "    }\n",
              "\n",
              "    .dataframe thead th {\n",
              "        text-align: right;\n",
              "    }\n",
              "</style>\n",
              "<table border=\"1\" class=\"dataframe\">\n",
              "  <thead>\n",
              "    <tr style=\"text-align: right;\">\n",
              "      <th></th>\n",
              "      <th>sells</th>\n",
              "    </tr>\n",
              "    <tr>\n",
              "      <th>Description</th>\n",
              "      <th></th>\n",
              "    </tr>\n",
              "  </thead>\n",
              "  <tbody>\n",
              "    <tr>\n",
              "      <th>WHITE HANGING HEART T-LIGHT HOLDER</th>\n",
              "      <td>2369</td>\n",
              "    </tr>\n",
              "    <tr>\n",
              "      <th>REGENCY CAKESTAND 3 TIER</th>\n",
              "      <td>2200</td>\n",
              "    </tr>\n",
              "    <tr>\n",
              "      <th>JUMBO BAG RED RETROSPOT</th>\n",
              "      <td>2159</td>\n",
              "    </tr>\n",
              "    <tr>\n",
              "      <th>PARTY BUNTING</th>\n",
              "      <td>1727</td>\n",
              "    </tr>\n",
              "    <tr>\n",
              "      <th>LUNCH BAG RED RETROSPOT</th>\n",
              "      <td>1638</td>\n",
              "    </tr>\n",
              "    <tr>\n",
              "      <th>CAT WITH SUNGLASSES BLANK CARD</th>\n",
              "      <td>1</td>\n",
              "    </tr>\n",
              "    <tr>\n",
              "      <th>CAPIZ CHANDELIER</th>\n",
              "      <td>1</td>\n",
              "    </tr>\n",
              "    <tr>\n",
              "      <th>WALL ART , THE MAGIC FOREST</th>\n",
              "      <td>1</td>\n",
              "    </tr>\n",
              "    <tr>\n",
              "      <th>CAMOUFLAGE DOG COLLAR</th>\n",
              "      <td>1</td>\n",
              "    </tr>\n",
              "    <tr>\n",
              "      <th>20713</th>\n",
              "      <td>1</td>\n",
              "    </tr>\n",
              "  </tbody>\n",
              "</table>\n",
              "</div>"
            ],
            "text/plain": [
              "                                    sells\n",
              "Description                              \n",
              "WHITE HANGING HEART T-LIGHT HOLDER   2369\n",
              "REGENCY CAKESTAND 3 TIER             2200\n",
              "JUMBO BAG RED RETROSPOT              2159\n",
              "PARTY BUNTING                        1727\n",
              "LUNCH BAG RED RETROSPOT              1638\n",
              "CAT WITH SUNGLASSES BLANK CARD          1\n",
              "CAPIZ CHANDELIER                        1\n",
              "WALL ART , THE MAGIC FOREST             1\n",
              "CAMOUFLAGE DOG COLLAR                   1\n",
              "20713                                   1"
            ]
          },
          "execution_count": null,
          "metadata": {},
          "output_type": "execute_result"
        }
      ],
      "source": [
        "sells_df.iloc[np.r_[0:5, -5:0]]"
      ]
    },
    {
      "cell_type": "markdown",
      "metadata": {
        "id": "clPGmeFf85b1"
      },
      "source": [
        "**GRAF**"
      ]
    },
    {
      "cell_type": "code",
      "execution_count": null,
      "metadata": {
        "colab": {
          "background_save": true
        },
        "id": "Sd5C8lz_t_gm"
      },
      "outputs": [],
      "source": [
        "df = sells_df.reset_index()\n",
        "df = df.astype({\"sells\": int, \"Description\": str})"
      ]
    },
    {
      "cell_type": "code",
      "execution_count": null,
      "metadata": {
        "colab": {
          "background_save": true
        },
        "id": "GFERn3di84dX",
        "outputId": "e5e28865-2325-495a-fa7a-da571b2f7aa5"
      },
      "outputs": [
        {
          "data": {
            "image/png": "[encoded data removed]",
            "text/plain": [
              "<Figure size 1800x864 with 1 Axes>"
            ]
          },
          "metadata": {},
          "output_type": "display_data"
        }
      ],
      "source": [
        "fig, ax = plt.subplots(figsize=(25,12))\n",
        "ax.bar(df['Description'], df['sells'], edgecolor='blue', alpha=0.75)\n",
        "ax.set_title('Prodeje zboží - kolikrát bylo zboží prodáno')\n",
        "ax.set_ylabel('počet prodejů')\n",
        "ax.grid()\n",
        "ax.xaxis.set_visible(False)"
      ]
    },
    {
      "cell_type": "markdown",
      "metadata": {
        "id": "QwzPBztcZgtb"
      },
      "source": [
        "Histogram"
      ]
    },
    {
      "cell_type": "code",
      "execution_count": null,
      "metadata": {
        "colab": {
          "background_save": true
        },
        "id": "dEkmspmTZgZT",
        "outputId": "f0896108-5c3f-4b2a-846a-7c34c430df8e"
      },
      "outputs": [
        {
          "data": {
            "image/png": "[encoded data removed]",
            "text/plain": [
              "<Figure size 1800x864 with 1 Axes>"
            ]
          },
          "metadata": {},
          "output_type": "display_data"
        }
      ],
      "source": [
        "fig, ax = plt.subplots(figsize=(25,12))\n",
        "plt.hist(df['sells'])\n",
        "ax.set_title('Prodeje zboží - kolikrát bylo zboží prodáno')\n",
        "ax.set_ylabel('počet prodejů')\n",
        "ax.set_xlabel('počet produktů')\n",
        "ax.grid()\n",
        "plt.show()"
      ]
    },
    {
      "cell_type": "markdown",
      "metadata": {
        "id": "HJPNzAkO8Rqd"
      },
      "source": [
        "podle počtu prodaných kusů"
      ]
    },
    {
      "cell_type": "code",
      "execution_count": null,
      "metadata": {
        "colab": {
          "background_save": true
        },
        "id": "EL7lEtPHtPwh"
      },
      "outputs": [],
      "source": [
        "sells_df2 = clear_df[['Description','Quantity']].groupby(['Description']).sum().sort_values('Quantity',ascending = False)\n"
      ]
    },
    {
      "cell_type": "code",
      "execution_count": null,
      "metadata": {
        "colab": {
          "background_save": true
        },
        "id": "E4-ZCN3mWC5P",
        "outputId": "b98cc226-5d37-42b0-aa5b-0614e3e504fd"
      },
      "outputs": [
        {
          "data": {
            "text/html": [
              "<div>\n",
              "<style scoped>\n",
              "    .dataframe tbody tr th:only-of-type {\n",
              "        vertical-align: middle;\n",
              "    }\n",
              "\n",
              "    .dataframe tbody tr th {\n",
              "        vertical-align: top;\n",
              "    }\n",
              "\n",
              "    .dataframe thead th {\n",
              "        text-align: right;\n",
              "    }\n",
              "</style>\n",
              "<table border=\"1\" class=\"dataframe\">\n",
              "  <thead>\n",
              "    <tr style=\"text-align: right;\">\n",
              "      <th></th>\n",
              "      <th>Quantity</th>\n",
              "    </tr>\n",
              "    <tr>\n",
              "      <th>Description</th>\n",
              "      <th></th>\n",
              "    </tr>\n",
              "  </thead>\n",
              "  <tbody>\n",
              "    <tr>\n",
              "      <th>WORLD WAR 2 GLIDERS ASSTD DESIGNS</th>\n",
              "      <td>53847</td>\n",
              "    </tr>\n",
              "    <tr>\n",
              "      <th>JUMBO BAG RED RETROSPOT</th>\n",
              "      <td>47363</td>\n",
              "    </tr>\n",
              "    <tr>\n",
              "      <th>ASSORTED COLOUR BIRD ORNAMENT</th>\n",
              "      <td>36381</td>\n",
              "    </tr>\n",
              "    <tr>\n",
              "      <th>POPCORN HOLDER</th>\n",
              "      <td>36334</td>\n",
              "    </tr>\n",
              "    <tr>\n",
              "      <th>PACK OF 72 RETROSPOT CAKE CASES</th>\n",
              "      <td>36039</td>\n",
              "    </tr>\n",
              "    <tr>\n",
              "      <th>AMAZON FEE</th>\n",
              "      <td>-30</td>\n",
              "    </tr>\n",
              "    <tr>\n",
              "      <th>SAMPLES</th>\n",
              "      <td>-59</td>\n",
              "    </tr>\n",
              "    <tr>\n",
              "      <th>MIA</th>\n",
              "      <td>-154</td>\n",
              "    </tr>\n",
              "    <tr>\n",
              "      <th>20713</th>\n",
              "      <td>-400</td>\n",
              "    </tr>\n",
              "    <tr>\n",
              "      <th>MERCHANT CHANDLER CREDIT ERROR, STO</th>\n",
              "      <td>-576</td>\n",
              "    </tr>\n",
              "  </tbody>\n",
              "</table>\n",
              "</div>"
            ],
            "text/plain": [
              "                                     Quantity\n",
              "Description                                  \n",
              "WORLD WAR 2 GLIDERS ASSTD DESIGNS       53847\n",
              "JUMBO BAG RED RETROSPOT                 47363\n",
              "ASSORTED COLOUR BIRD ORNAMENT           36381\n",
              "POPCORN HOLDER                          36334\n",
              "PACK OF 72 RETROSPOT CAKE CASES         36039\n",
              "AMAZON FEE                                -30\n",
              "SAMPLES                                   -59\n",
              "MIA                                      -154\n",
              "20713                                    -400\n",
              "MERCHANT CHANDLER CREDIT ERROR, STO      -576"
            ]
          },
          "execution_count": null,
          "metadata": {},
          "output_type": "execute_result"
        }
      ],
      "source": [
        "sells_df2.iloc[np.r_[0:5, -5:0]]"
      ]
    },
    {
      "cell_type": "markdown",
      "metadata": {
        "id": "lK4CbVc-VIP7"
      },
      "source": [
        "**GRAF**"
      ]
    },
    {
      "cell_type": "code",
      "execution_count": null,
      "metadata": {
        "colab": {
          "background_save": true
        },
        "id": "Pdtd4FN-uOv_"
      },
      "outputs": [],
      "source": [
        "df2 = sells_df2.reset_index()\n",
        "df2 = df2.astype({\"Quantity\": int, \"Description\": str})\n"
      ]
    },
    {
      "cell_type": "code",
      "execution_count": null,
      "metadata": {
        "colab": {
          "background_save": true
        },
        "id": "LHE6yDgpVHzE",
        "outputId": "618cff8f-e5b0-4b72-bcaa-6a799811f434"
      },
      "outputs": [
        {
          "data": {
            "image/png": "[encoded data removed]",
            "text/plain": [
              "<Figure size 1800x864 with 1 Axes>"
            ]
          },
          "metadata": {},
          "output_type": "display_data"
        }
      ],
      "source": [
        "fig, ax = plt.subplots(figsize=(25,12))\n",
        "ax.bar(df2['Description'], df2['Quantity'], edgecolor='red', alpha=0.75)\n",
        "ax.set_title('Prodeje zboží - kolikrát bylo zboží prodáno')\n",
        "ax.set_ylabel('počet prodejů')\n",
        "ax.grid()\n",
        "ax.xaxis.set_visible(False)"
      ]
    },
    {
      "cell_type": "markdown",
      "metadata": {
        "id": "bme6VpsGaa5M"
      },
      "source": [
        "Histogram"
      ]
    },
    {
      "cell_type": "code",
      "execution_count": null,
      "metadata": {
        "colab": {
          "background_save": true
        },
        "id": "GuBgbsUIacIf",
        "outputId": "fdd28027-131c-4cfb-8111-bd40f906d11d"
      },
      "outputs": [
        {
          "data": {
            "image/png": "[encoded data removed]",
            "text/plain": [
              "<Figure size 1800x864 with 1 Axes>"
            ]
          },
          "metadata": {},
          "output_type": "display_data"
        }
      ],
      "source": [
        "fig, ax = plt.subplots(figsize=(25,12))\n",
        "plt.hist(df2['Quantity'],bins=10,color='red')\n",
        "ax.set_title('Prodeje zboží - kolikrát bylo zboží prodáno')\n",
        "ax.set_ylabel('počet produktů')\n",
        "ax.set_xlabel('počet prodejů na kusy')\n",
        "ax.xaxis.set_minor_locator(MultipleLocator(1000))\n",
        "ax.grid()\n",
        "plt.show()"
      ]
    },
    {
      "cell_type": "markdown",
      "metadata": {
        "id": "nKv15qh2-oXz"
      },
      "source": [
        "**Ve které zemi se prodává nejvíce**"
      ]
    },
    {
      "cell_type": "markdown",
      "metadata": {
        "id": "SGyzksp7FyKg"
      },
      "source": [
        "Vytvoření pomocných sloupců."
      ]
    },
    {
      "cell_type": "markdown",
      "metadata": {
        "id": "Jb19mGGtG2mL"
      },
      "source": [
        "\n",
        "- **total** = celkový výnos/ztráta\n",
        "- **flag** = počet zakoupení\n",
        "- **quantity** = čeho se prodalo nejvíce / nejméně\n",
        "\n",
        "\n"
      ]
    },
    {
      "cell_type": "code",
      "execution_count": null,
      "metadata": {
        "colab": {
          "base_uri": "https://localhost:8080/",
          "height": 208
        },
        "id": "uIDQIjzj_DJO",
        "outputId": "3b9d03a0-81cb-4d45-b344-00471b92a379"
      },
      "outputs": [
        {
          "output_type": "error",
          "ename": "NameError",
          "evalue": "ignored",
          "traceback": [
            "\u001b[0;31m---------------------------------------------------------------------------\u001b[0m",
            "\u001b[0;31mNameError\u001b[0m                                 Traceback (most recent call last)",
            "\u001b[0;32m<ipython-input-1-b6046263a2f1>\u001b[0m in \u001b[0;36m<module>\u001b[0;34m()\u001b[0m\n\u001b[0;32m----> 1\u001b[0;31m \u001b[0mdf_countries\u001b[0m \u001b[0;34m=\u001b[0m \u001b[0mdf_retail\u001b[0m\u001b[0;34m[\u001b[0m\u001b[0;34m[\u001b[0m\u001b[0;34m'Country'\u001b[0m\u001b[0;34m]\u001b[0m\u001b[0;34m]\u001b[0m\u001b[0;34m.\u001b[0m\u001b[0massign\u001b[0m\u001b[0;34m(\u001b[0m\u001b[0msells\u001b[0m \u001b[0;34m=\u001b[0m \u001b[0;36m1\u001b[0m\u001b[0;34m)\u001b[0m\u001b[0;34m.\u001b[0m\u001b[0mgroupby\u001b[0m\u001b[0;34m(\u001b[0m\u001b[0;34m'Country'\u001b[0m\u001b[0;34m)\u001b[0m\u001b[0;34m.\u001b[0m\u001b[0mcount\u001b[0m\u001b[0;34m(\u001b[0m\u001b[0;34m)\u001b[0m\u001b[0;34m.\u001b[0m\u001b[0msort_values\u001b[0m\u001b[0;34m(\u001b[0m\u001b[0;34m'sells'\u001b[0m\u001b[0;34m,\u001b[0m\u001b[0mascending\u001b[0m \u001b[0;34m=\u001b[0m \u001b[0;32mFalse\u001b[0m\u001b[0;34m)\u001b[0m\u001b[0;34m\u001b[0m\u001b[0;34m\u001b[0m\u001b[0m\n\u001b[0m\u001b[1;32m      2\u001b[0m \u001b[0mdf_countries\u001b[0m\u001b[0;34m[\u001b[0m\u001b[0;34m'percent'\u001b[0m\u001b[0;34m]\u001b[0m \u001b[0;34m=\u001b[0m \u001b[0mround\u001b[0m\u001b[0;34m(\u001b[0m\u001b[0;34m(\u001b[0m\u001b[0mdf_countries\u001b[0m\u001b[0;34m[\u001b[0m\u001b[0;34m'sells'\u001b[0m\u001b[0;34m]\u001b[0m  \u001b[0;34m/\u001b[0m \u001b[0mdf_countries\u001b[0m\u001b[0;34m[\u001b[0m\u001b[0;34m'sells'\u001b[0m\u001b[0;34m]\u001b[0m\u001b[0;34m.\u001b[0m\u001b[0msum\u001b[0m\u001b[0;34m(\u001b[0m\u001b[0;34m)\u001b[0m\u001b[0;34m*\u001b[0m\u001b[0;36m100\u001b[0m\u001b[0;34m)\u001b[0m\u001b[0;34m,\u001b[0m\u001b[0;36m2\u001b[0m\u001b[0;34m)\u001b[0m\u001b[0;34m\u001b[0m\u001b[0;34m\u001b[0m\u001b[0m\n\u001b[1;32m      3\u001b[0m \u001b[0mdf_countries\u001b[0m\u001b[0;34m\u001b[0m\u001b[0;34m\u001b[0m\u001b[0m\n",
            "\u001b[0;31mNameError\u001b[0m: name 'df_retail' is not defined"
          ]
        }
      ],
      "source": [
        "df_countries = df_retail[['Country']].assign(sells = 1).groupby('Country').count().sort_values('sells',ascending = False)\n",
        "df_countries['percent'] = round((df_countries['sells']  / df_countries['sells'].sum()*100),2)\n",
        "df_countries"
      ]
    },
    {
      "cell_type": "markdown",
      "metadata": {
        "id": "1o6vKi4gCOnk"
      },
      "source": [
        "**Zisk / Ztráta**"
      ]
    },
    {
      "cell_type": "markdown",
      "metadata": {
        "id": "K4O1FYVdGIQQ"
      },
      "source": [
        "Tabulka s vypočítanou ziskovostí či ztrátovostí"
      ]
    },
    {
      "cell_type": "code",
      "execution_count": null,
      "metadata": {
        "colab": {
          "background_save": true
        },
        "id": "_Gq12XwuCV7e",
        "outputId": "df3578fb-b3f9-4727-d4e1-8944773f6b0f"
      },
      "outputs": [
        {
          "data": {
            "text/html": [
              "<div>\n",
              "<style scoped>\n",
              "    .dataframe tbody tr th:only-of-type {\n",
              "        vertical-align: middle;\n",
              "    }\n",
              "\n",
              "    .dataframe tbody tr th {\n",
              "        vertical-align: top;\n",
              "    }\n",
              "\n",
              "    .dataframe thead th {\n",
              "        text-align: right;\n",
              "    }\n",
              "</style>\n",
              "<table border=\"1\" class=\"dataframe\">\n",
              "  <thead>\n",
              "    <tr style=\"text-align: right;\">\n",
              "      <th></th>\n",
              "      <th>InvoiceNo</th>\n",
              "      <th>StockCode</th>\n",
              "      <th>Description</th>\n",
              "      <th>Quantity</th>\n",
              "      <th>InvoiceDate</th>\n",
              "      <th>UnitPrice</th>\n",
              "      <th>CustomerID</th>\n",
              "      <th>Country</th>\n",
              "      <th>total</th>\n",
              "    </tr>\n",
              "  </thead>\n",
              "  <tbody>\n",
              "    <tr>\n",
              "      <th>0</th>\n",
              "      <td>536365</td>\n",
              "      <td>85123A</td>\n",
              "      <td>WHITE HANGING HEART T-LIGHT HOLDER</td>\n",
              "      <td>6</td>\n",
              "      <td>2010-12-01 08:26:00</td>\n",
              "      <td>2.55</td>\n",
              "      <td>17850.0</td>\n",
              "      <td>United Kingdom</td>\n",
              "      <td>15.30</td>\n",
              "    </tr>\n",
              "    <tr>\n",
              "      <th>1</th>\n",
              "      <td>536365</td>\n",
              "      <td>71053</td>\n",
              "      <td>WHITE METAL LANTERN</td>\n",
              "      <td>6</td>\n",
              "      <td>2010-12-01 08:26:00</td>\n",
              "      <td>3.39</td>\n",
              "      <td>17850.0</td>\n",
              "      <td>United Kingdom</td>\n",
              "      <td>20.34</td>\n",
              "    </tr>\n",
              "    <tr>\n",
              "      <th>2</th>\n",
              "      <td>536365</td>\n",
              "      <td>84406B</td>\n",
              "      <td>CREAM CUPID HEARTS COAT HANGER</td>\n",
              "      <td>8</td>\n",
              "      <td>2010-12-01 08:26:00</td>\n",
              "      <td>2.75</td>\n",
              "      <td>17850.0</td>\n",
              "      <td>United Kingdom</td>\n",
              "      <td>22.00</td>\n",
              "    </tr>\n",
              "  </tbody>\n",
              "</table>\n",
              "</div>"
            ],
            "text/plain": [
              "  InvoiceNo StockCode  ...         Country  total\n",
              "0    536365    85123A  ...  United Kingdom  15.30\n",
              "1    536365     71053  ...  United Kingdom  20.34\n",
              "2    536365    84406B  ...  United Kingdom  22.00\n",
              "\n",
              "[3 rows x 9 columns]"
            ]
          },
          "execution_count": null,
          "metadata": {},
          "output_type": "execute_result"
        }
      ],
      "source": [
        "df_profit = df_retail.assign(total = (df_retail.Quantity * df_retail.UnitPrice))\n",
        "df_profit.head(3)\n"
      ]
    },
    {
      "cell_type": "code",
      "execution_count": null,
      "metadata": {
        "colab": {
          "background_save": true
        },
        "id": "B6zYdEXJDuo5"
      },
      "outputs": [],
      "source": [
        "df_profit = df_profit[['Description','StockCode','total']].groupby(['StockCode','Description']).sum().sort_values('total',ascending = False)"
      ]
    },
    {
      "cell_type": "code",
      "execution_count": null,
      "metadata": {
        "colab": {
          "background_save": true
        },
        "id": "sfKgwm6CFQO9",
        "outputId": "dbf3a55b-50fe-4bf4-9c30-65683abd9ba7"
      },
      "outputs": [
        {
          "data": {
            "text/html": [
              "<div>\n",
              "<style scoped>\n",
              "    .dataframe tbody tr th:only-of-type {\n",
              "        vertical-align: middle;\n",
              "    }\n",
              "\n",
              "    .dataframe tbody tr th {\n",
              "        vertical-align: top;\n",
              "    }\n",
              "\n",
              "    .dataframe thead th {\n",
              "        text-align: right;\n",
              "    }\n",
              "</style>\n",
              "<table border=\"1\" class=\"dataframe\">\n",
              "  <thead>\n",
              "    <tr style=\"text-align: right;\">\n",
              "      <th></th>\n",
              "      <th></th>\n",
              "      <th>total</th>\n",
              "    </tr>\n",
              "    <tr>\n",
              "      <th>StockCode</th>\n",
              "      <th>Description</th>\n",
              "      <th></th>\n",
              "    </tr>\n",
              "  </thead>\n",
              "  <tbody>\n",
              "    <tr>\n",
              "      <th>DOT</th>\n",
              "      <th>DOTCOM POSTAGE</th>\n",
              "      <td>206245.480</td>\n",
              "    </tr>\n",
              "    <tr>\n",
              "      <th>22423</th>\n",
              "      <th>REGENCY CAKESTAND 3 TIER</th>\n",
              "      <td>164762.190</td>\n",
              "    </tr>\n",
              "    <tr>\n",
              "      <th>47566</th>\n",
              "      <th>PARTY BUNTING</th>\n",
              "      <td>98302.980</td>\n",
              "    </tr>\n",
              "    <tr>\n",
              "      <th>85123A</th>\n",
              "      <th>WHITE HANGING HEART T-LIGHT HOLDER</th>\n",
              "      <td>97715.990</td>\n",
              "    </tr>\n",
              "    <tr>\n",
              "      <th>85099B</th>\n",
              "      <th>JUMBO BAG RED RETROSPOT</th>\n",
              "      <td>92356.030</td>\n",
              "    </tr>\n",
              "    <tr>\n",
              "      <th>...</th>\n",
              "      <th>...</th>\n",
              "      <td>...</td>\n",
              "    </tr>\n",
              "    <tr>\n",
              "      <th>51014c</th>\n",
              "      <th>FEATHER PEN,COAL BLACK</th>\n",
              "      <td>0.830</td>\n",
              "    </tr>\n",
              "    <tr>\n",
              "      <th>85047</th>\n",
              "      <th>WHITE BEADED GARLAND STRING 20LIGHT</th>\n",
              "      <td>0.800</td>\n",
              "    </tr>\n",
              "    <tr>\n",
              "      <th>23366</th>\n",
              "      <th>SET 12 COLOURING PENCILS DOILEY</th>\n",
              "      <td>0.650</td>\n",
              "    </tr>\n",
              "    <tr>\n",
              "      <th>84227</th>\n",
              "      <th>HEN HOUSE W CHICK IN NEST</th>\n",
              "      <td>0.420</td>\n",
              "    </tr>\n",
              "    <tr>\n",
              "      <th>PADS</th>\n",
              "      <th>PADS TO MATCH ALL CUSHIONS</th>\n",
              "      <td>0.003</td>\n",
              "    </tr>\n",
              "  </tbody>\n",
              "</table>\n",
              "<p>4147 rows × 1 columns</p>\n",
              "</div>"
            ],
            "text/plain": [
              "                                                    total\n",
              "StockCode Description                                    \n",
              "DOT       DOTCOM POSTAGE                       206245.480\n",
              "22423     REGENCY CAKESTAND 3 TIER             164762.190\n",
              "47566     PARTY BUNTING                         98302.980\n",
              "85123A    WHITE HANGING HEART T-LIGHT HOLDER    97715.990\n",
              "85099B    JUMBO BAG RED RETROSPOT               92356.030\n",
              "...                                                   ...\n",
              "51014c    FEATHER PEN,COAL BLACK                    0.830\n",
              "85047     WHITE BEADED GARLAND STRING 20LIGHT       0.800\n",
              "23366     SET 12 COLOURING PENCILS DOILEY           0.650\n",
              "84227     HEN HOUSE W CHICK IN NEST                 0.420\n",
              "PADS      PADS TO MATCH ALL CUSHIONS                0.003\n",
              "\n",
              "[4147 rows x 1 columns]"
            ]
          },
          "execution_count": null,
          "metadata": {},
          "output_type": "execute_result"
        }
      ],
      "source": [
        "df_profit_Stock = df_profit.query(\"total != 0\").sort_values('total', ascending = False)\n",
        "df_profit_Stock = df_profit_Stock.query(\"total > 0\") \n",
        "df_profit_Stock"
      ]
    },
    {
      "cell_type": "markdown",
      "metadata": {
        "id": "qhT714oFGYeG"
      },
      "source": [
        "**Bilance za dny/měsíce/kvartály za rok 2011** "
      ]
    },
    {
      "cell_type": "code",
      "execution_count": null,
      "metadata": {
        "colab": {
          "background_save": true
        },
        "id": "JMTSzoSEUF97"
      },
      "outputs": [],
      "source": [
        "df_days = df_retail.assign(total = (df_retail.Quantity * df_retail.UnitPrice))"
      ]
    },
    {
      "cell_type": "code",
      "execution_count": null,
      "metadata": {
        "colab": {
          "background_save": true
        },
        "id": "0feITR7Ag1Uf"
      },
      "outputs": [],
      "source": [
        "df_days = df_days.query(\"InvoiceDate >= '2011-01-01'\")"
      ]
    },
    {
      "cell_type": "code",
      "execution_count": null,
      "metadata": {
        "colab": {
          "background_save": true
        },
        "id": "X1HROlseUO8z"
      },
      "outputs": [],
      "source": [
        "df_days.index = pd.to_datetime(df_days['InvoiceDate'],format='%m/%d/%y %I:%M%p')"
      ]
    },
    {
      "cell_type": "code",
      "execution_count": null,
      "metadata": {
        "colab": {
          "background_save": true
        },
        "id": "32ZM9JIyVAUA",
        "outputId": "32996884-2539-4868-e237-205c7ae1c3ee"
      },
      "outputs": [
        {
          "data": {
            "text/html": [
              "<div>\n",
              "<style scoped>\n",
              "    .dataframe tbody tr th:only-of-type {\n",
              "        vertical-align: middle;\n",
              "    }\n",
              "\n",
              "    .dataframe tbody tr th {\n",
              "        vertical-align: top;\n",
              "    }\n",
              "\n",
              "    .dataframe thead th {\n",
              "        text-align: right;\n",
              "    }\n",
              "</style>\n",
              "<table border=\"1\" class=\"dataframe\">\n",
              "  <thead>\n",
              "    <tr style=\"text-align: right;\">\n",
              "      <th></th>\n",
              "      <th>total</th>\n",
              "    </tr>\n",
              "    <tr>\n",
              "      <th>InvoiceDate</th>\n",
              "      <th></th>\n",
              "    </tr>\n",
              "  </thead>\n",
              "  <tbody>\n",
              "    <tr>\n",
              "      <th>2011-01-04</th>\n",
              "      <td>14950.48</td>\n",
              "    </tr>\n",
              "    <tr>\n",
              "      <th>2011-01-05</th>\n",
              "      <td>-1566.23</td>\n",
              "    </tr>\n",
              "    <tr>\n",
              "      <th>2011-01-06</th>\n",
              "      <td>37392.74</td>\n",
              "    </tr>\n",
              "    <tr>\n",
              "      <th>2011-01-07</th>\n",
              "      <td>27233.14</td>\n",
              "    </tr>\n",
              "    <tr>\n",
              "      <th>2011-01-08</th>\n",
              "      <td>0.00</td>\n",
              "    </tr>\n",
              "    <tr>\n",
              "      <th>...</th>\n",
              "      <td>...</td>\n",
              "    </tr>\n",
              "    <tr>\n",
              "      <th>2011-12-05</th>\n",
              "      <td>57751.32</td>\n",
              "    </tr>\n",
              "    <tr>\n",
              "      <th>2011-12-06</th>\n",
              "      <td>54228.37</td>\n",
              "    </tr>\n",
              "    <tr>\n",
              "      <th>2011-12-07</th>\n",
              "      <td>75076.22</td>\n",
              "    </tr>\n",
              "    <tr>\n",
              "      <th>2011-12-08</th>\n",
              "      <td>81417.78</td>\n",
              "    </tr>\n",
              "    <tr>\n",
              "      <th>2011-12-09</th>\n",
              "      <td>32131.53</td>\n",
              "    </tr>\n",
              "  </tbody>\n",
              "</table>\n",
              "<p>340 rows × 1 columns</p>\n",
              "</div>"
            ],
            "text/plain": [
              "                total\n",
              "InvoiceDate          \n",
              "2011-01-04   14950.48\n",
              "2011-01-05   -1566.23\n",
              "2011-01-06   37392.74\n",
              "2011-01-07   27233.14\n",
              "2011-01-08       0.00\n",
              "...               ...\n",
              "2011-12-05   57751.32\n",
              "2011-12-06   54228.37\n",
              "2011-12-07   75076.22\n",
              "2011-12-08   81417.78\n",
              "2011-12-09   32131.53\n",
              "\n",
              "[340 rows x 1 columns]"
            ]
          },
          "execution_count": null,
          "metadata": {},
          "output_type": "execute_result"
        }
      ],
      "source": [
        "df_days = df_days[['total']].groupby(pd.Grouper(freq='d')).sum().sort_values('InvoiceDate')\n",
        "df_days"
      ]
    },
    {
      "cell_type": "code",
      "execution_count": null,
      "metadata": {
        "colab": {
          "background_save": true
        },
        "id": "2S3jsmb3i9NJ",
        "outputId": "363349a3-a7a6-401e-bc59-b51876637f3c"
      },
      "outputs": [
        {
          "data": {
            "text/html": [
              "<div>\n",
              "<style scoped>\n",
              "    .dataframe tbody tr th:only-of-type {\n",
              "        vertical-align: middle;\n",
              "    }\n",
              "\n",
              "    .dataframe tbody tr th {\n",
              "        vertical-align: top;\n",
              "    }\n",
              "\n",
              "    .dataframe thead th {\n",
              "        text-align: right;\n",
              "    }\n",
              "</style>\n",
              "<table border=\"1\" class=\"dataframe\">\n",
              "  <thead>\n",
              "    <tr style=\"text-align: right;\">\n",
              "      <th></th>\n",
              "      <th>InvoiceDate</th>\n",
              "      <th>total</th>\n",
              "    </tr>\n",
              "  </thead>\n",
              "  <tbody>\n",
              "    <tr>\n",
              "      <th>0</th>\n",
              "      <td>2011-01-04</td>\n",
              "      <td>14950.48</td>\n",
              "    </tr>\n",
              "    <tr>\n",
              "      <th>1</th>\n",
              "      <td>2011-01-05</td>\n",
              "      <td>-1566.23</td>\n",
              "    </tr>\n",
              "    <tr>\n",
              "      <th>2</th>\n",
              "      <td>2011-01-06</td>\n",
              "      <td>37392.74</td>\n",
              "    </tr>\n",
              "    <tr>\n",
              "      <th>3</th>\n",
              "      <td>2011-01-07</td>\n",
              "      <td>27233.14</td>\n",
              "    </tr>\n",
              "    <tr>\n",
              "      <th>4</th>\n",
              "      <td>2011-01-08</td>\n",
              "      <td>0.00</td>\n",
              "    </tr>\n",
              "    <tr>\n",
              "      <th>...</th>\n",
              "      <td>...</td>\n",
              "      <td>...</td>\n",
              "    </tr>\n",
              "    <tr>\n",
              "      <th>335</th>\n",
              "      <td>2011-12-05</td>\n",
              "      <td>57751.32</td>\n",
              "    </tr>\n",
              "    <tr>\n",
              "      <th>336</th>\n",
              "      <td>2011-12-06</td>\n",
              "      <td>54228.37</td>\n",
              "    </tr>\n",
              "    <tr>\n",
              "      <th>337</th>\n",
              "      <td>2011-12-07</td>\n",
              "      <td>75076.22</td>\n",
              "    </tr>\n",
              "    <tr>\n",
              "      <th>338</th>\n",
              "      <td>2011-12-08</td>\n",
              "      <td>81417.78</td>\n",
              "    </tr>\n",
              "    <tr>\n",
              "      <th>339</th>\n",
              "      <td>2011-12-09</td>\n",
              "      <td>32131.53</td>\n",
              "    </tr>\n",
              "  </tbody>\n",
              "</table>\n",
              "<p>340 rows × 2 columns</p>\n",
              "</div>"
            ],
            "text/plain": [
              "    InvoiceDate     total\n",
              "0    2011-01-04  14950.48\n",
              "1    2011-01-05  -1566.23\n",
              "2    2011-01-06  37392.74\n",
              "3    2011-01-07  27233.14\n",
              "4    2011-01-08      0.00\n",
              "..          ...       ...\n",
              "335  2011-12-05  57751.32\n",
              "336  2011-12-06  54228.37\n",
              "337  2011-12-07  75076.22\n",
              "338  2011-12-08  81417.78\n",
              "339  2011-12-09  32131.53\n",
              "\n",
              "[340 rows x 2 columns]"
            ]
          },
          "execution_count": null,
          "metadata": {},
          "output_type": "execute_result"
        }
      ],
      "source": [
        "df3 = df_days.reset_index()\n",
        "df3"
      ]
    },
    {
      "cell_type": "code",
      "execution_count": null,
      "metadata": {
        "colab": {
          "background_save": true
        },
        "id": "lSYjbk2Ulg98",
        "outputId": "7d8c30f3-b41a-4b3b-c7e2-0218d3162b37"
      },
      "outputs": [
        {
          "data": {
            "image/png": "[encoded data removed]",
            "text/plain": [
              "<Figure size 1152x576 with 1 Axes>"
            ]
          },
          "metadata": {},
          "output_type": "display_data"
        }
      ],
      "source": [
        "fig, ax = plt.subplots(figsize=(16,8))\n",
        "plt.bar(df3['InvoiceDate'], df3['total'])\n",
        "ax.set_title('Denní tržby v průběhu roku',fontsize=20)\n",
        "ax.set_ylabel('tržby',fontsize=14)\n",
        "ax.grid(alpha=0.25)"
      ]
    },
    {
      "cell_type": "code",
      "execution_count": null,
      "metadata": {
        "colab": {
          "background_save": true
        },
        "id": "MtQ8KkstVUc_",
        "outputId": "759bd05c-c441-4ea7-a987-f433abb886fb"
      },
      "outputs": [
        {
          "data": {
            "text/html": [
              "<div>\n",
              "<style scoped>\n",
              "    .dataframe tbody tr th:only-of-type {\n",
              "        vertical-align: middle;\n",
              "    }\n",
              "\n",
              "    .dataframe tbody tr th {\n",
              "        vertical-align: top;\n",
              "    }\n",
              "\n",
              "    .dataframe thead th {\n",
              "        text-align: right;\n",
              "    }\n",
              "</style>\n",
              "<table border=\"1\" class=\"dataframe\">\n",
              "  <thead>\n",
              "    <tr style=\"text-align: right;\">\n",
              "      <th></th>\n",
              "      <th>total</th>\n",
              "    </tr>\n",
              "    <tr>\n",
              "      <th>InvoiceDate</th>\n",
              "      <th></th>\n",
              "    </tr>\n",
              "  </thead>\n",
              "  <tbody>\n",
              "    <tr>\n",
              "      <th>2011-01-31</th>\n",
              "      <td>560000.260</td>\n",
              "    </tr>\n",
              "    <tr>\n",
              "      <th>2011-02-28</th>\n",
              "      <td>498062.650</td>\n",
              "    </tr>\n",
              "    <tr>\n",
              "      <th>2011-03-31</th>\n",
              "      <td>683267.080</td>\n",
              "    </tr>\n",
              "    <tr>\n",
              "      <th>2011-04-30</th>\n",
              "      <td>493207.121</td>\n",
              "    </tr>\n",
              "    <tr>\n",
              "      <th>2011-05-31</th>\n",
              "      <td>723333.510</td>\n",
              "    </tr>\n",
              "    <tr>\n",
              "      <th>2011-06-30</th>\n",
              "      <td>691123.120</td>\n",
              "    </tr>\n",
              "    <tr>\n",
              "      <th>2011-07-31</th>\n",
              "      <td>681300.111</td>\n",
              "    </tr>\n",
              "    <tr>\n",
              "      <th>2011-08-31</th>\n",
              "      <td>682680.510</td>\n",
              "    </tr>\n",
              "    <tr>\n",
              "      <th>2011-09-30</th>\n",
              "      <td>1019687.622</td>\n",
              "    </tr>\n",
              "    <tr>\n",
              "      <th>2011-10-31</th>\n",
              "      <td>1070704.670</td>\n",
              "    </tr>\n",
              "    <tr>\n",
              "      <th>2011-11-30</th>\n",
              "      <td>1461756.250</td>\n",
              "    </tr>\n",
              "    <tr>\n",
              "      <th>2011-12-31</th>\n",
              "      <td>433668.010</td>\n",
              "    </tr>\n",
              "  </tbody>\n",
              "</table>\n",
              "</div>"
            ],
            "text/plain": [
              "                   total\n",
              "InvoiceDate             \n",
              "2011-01-31    560000.260\n",
              "2011-02-28    498062.650\n",
              "2011-03-31    683267.080\n",
              "2011-04-30    493207.121\n",
              "2011-05-31    723333.510\n",
              "2011-06-30    691123.120\n",
              "2011-07-31    681300.111\n",
              "2011-08-31    682680.510\n",
              "2011-09-30   1019687.622\n",
              "2011-10-31   1070704.670\n",
              "2011-11-30   1461756.250\n",
              "2011-12-31    433668.010"
            ]
          },
          "execution_count": null,
          "metadata": {},
          "output_type": "execute_result"
        }
      ],
      "source": [
        "df_months = df_days.query(\"InvoiceDate >= '2011-01-01'\")\n",
        "df_months = df_months[['total']].groupby(pd.Grouper(freq='m')).sum().sort_values('InvoiceDate')\n",
        "df_months"
      ]
    },
    {
      "cell_type": "markdown",
      "metadata": {
        "id": "asfsGjlrjgTL"
      },
      "source": [
        "**GRAF**"
      ]
    },
    {
      "cell_type": "code",
      "execution_count": null,
      "metadata": {
        "colab": {
          "background_save": true
        },
        "id": "WByVavNVoZaN"
      },
      "outputs": [],
      "source": [
        "months_list = ['Jan', 'Feb', 'Mar', 'Apr', 'May', 'Jun', 'Jul', 'Aug', 'Sep', 'Oct', 'Nov', 'Dec']"
      ]
    },
    {
      "cell_type": "code",
      "execution_count": null,
      "metadata": {
        "colab": {
          "background_save": true
        },
        "id": "YIiAMC5qppHb",
        "outputId": "1d3c2183-ffa1-4ab5-a810-24d58960d01a"
      },
      "outputs": [
        {
          "data": {
            "image/png": "[encoded data removed]",
            "text/plain": [
              "<Figure size 1152x576 with 1 Axes>"
            ]
          },
          "metadata": {},
          "output_type": "display_data"
        }
      ],
      "source": [
        "fig, ax = plt.subplots(figsize=(16,8))\n",
        "plt.bar(months_list, df_months['total'])\n",
        "ax.set_title('Mesíční bilance Za rok 2011',fontsize=20)\n",
        "ax.set_ylabel('tržby v milionech',fontsize=14)\n",
        "ax.grid(alpha=0.25)"
      ]
    },
    {
      "cell_type": "code",
      "execution_count": null,
      "metadata": {
        "colab": {
          "background_save": true
        },
        "id": "mRIePim3xh8m"
      },
      "outputs": [],
      "source": [
        "df_quartal = df_days.query(\"InvoiceDate >= '2011-01-01'\")"
      ]
    },
    {
      "cell_type": "code",
      "execution_count": null,
      "metadata": {
        "colab": {
          "background_save": true
        },
        "id": "kOzyCifVVaDB"
      },
      "outputs": [],
      "source": [
        "df_quartal = df_quartal[['total']].groupby(pd.Grouper(freq='q')).sum().sort_values('InvoiceDate')"
      ]
    },
    {
      "cell_type": "code",
      "execution_count": null,
      "metadata": {
        "colab": {
          "background_save": true
        },
        "id": "YT93hQcMwNXV"
      },
      "outputs": [],
      "source": [
        "q = ['1.kvartál','2.kvartál','3.kvartál','4.kvartál']"
      ]
    },
    {
      "cell_type": "code",
      "execution_count": null,
      "metadata": {
        "colab": {
          "background_save": true
        },
        "id": "O4L5X9lqwLpv",
        "outputId": "d212337a-ba9e-4f0a-be24-f64241b6ae62"
      },
      "outputs": [
        {
          "data": {
            "image/png": "[encoded data removed]",
            "text/plain": [
              "<Figure size 1152x576 with 1 Axes>"
            ]
          },
          "metadata": {},
          "output_type": "display_data"
        }
      ],
      "source": [
        "fig, ax = plt.subplots(figsize=(16,8))\n",
        "plt.bar(q, df_quartal['total'])\n",
        "ax.set_title('Kvartální bilance Za rok 2011',fontsize=20)\n",
        "ax.set_ylabel('tržby v milionech',fontsize=14)\n",
        "ax.grid(alpha=0.25)"
      ]
    },
    {
      "cell_type": "code",
      "execution_count": null,
      "metadata": {
        "colab": {
          "background_save": true
        },
        "id": "VVwKAJ0cxOFv"
      },
      "outputs": [],
      "source": [
        ""
      ]
    }
  ],
  "metadata": {
    "colab": {
      "collapsed_sections": [],
      "name": "retail.ipynb",
      "provenance": [],
      "authorship_tag": "ABX9TyNzyNNtzqQRtyInuBrYqkQM",
      "include_colab_link": true
    },
    "kernelspec": {
      "display_name": "Python 3",
      "name": "python3"
    },
    "language_info": {
      "name": "python"
    }
  },
  "nbformat": 4,
  "nbformat_minor": 0
}