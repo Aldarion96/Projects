{
  "nbformat": 4,
  "nbformat_minor": 0,
  "metadata": {
    "colab": {
      "name": "retail.ipynb",
      "provenance": [],
      "collapsed_sections": [],
      "authorship_tag": "ABX9TyNSogK6SpMx9jxojijcMdDF",
      "include_colab_link": true
    },
    "kernelspec": {
      "name": "python3",
      "display_name": "Python 3"
    },
    "language_info": {
      "name": "python"
    }
  },
  "cells": [
    {
      "cell_type": "markdown",
      "metadata": {
        "id": "view-in-github",
        "colab_type": "text"
      },
      "source": [
        "<a href=\"https://colab.research.google.com/github/Aldarion96/Projects/blob/main/Online_retail.ipynb\" target=\"_parent\"><img src=\"https://colab.research.google.com/assets/colab-badge.svg\" alt=\"Open In Colab\"/></a>"
      ]
    },
    {
      "cell_type": "code",
      "execution_count": 302,
      "metadata": {
        "colab": {
          "base_uri": "https://localhost:8080/"
        },
        "id": "7HkQZ-_TxBha",
        "outputId": "8643046c-d38f-4872-9232-5494702a6d85"
      },
      "outputs": [
        {
          "output_type": "stream",
          "name": "stdout",
          "text": [
            "       InvoiceNo StockCode  ... CustomerID         Country\n",
            "0         536365    85123A  ...    17850.0  United Kingdom\n",
            "1         536365     71053  ...    17850.0  United Kingdom\n",
            "2         536365    84406B  ...    17850.0  United Kingdom\n",
            "3         536365    84029G  ...    17850.0  United Kingdom\n",
            "4         536365    84029E  ...    17850.0  United Kingdom\n",
            "...          ...       ...  ...        ...             ...\n",
            "541904    581587     22613  ...    12680.0          France\n",
            "541905    581587     22899  ...    12680.0          France\n",
            "541906    581587     23254  ...    12680.0          France\n",
            "541907    581587     23255  ...    12680.0          France\n",
            "541908    581587     22138  ...    12680.0          France\n",
            "\n",
            "[541909 rows x 8 columns]\n"
          ]
        }
      ],
      "source": [
        "import pandas as pd\n",
        "import matplotlib.pyplot as plt\n",
        "import numpy as np\n",
        "from matplotlib.ticker import (MultipleLocator, FormatStrFormatter,\n",
        "                               AutoMinorLocator)\n",
        "import numpy as np\n",
        "\n",
        "df_retail = pd.read_excel (r'/content/sample_data/Online Retail.xlsx')\n",
        "print (df_retail)"
      ]
    },
    {
      "cell_type": "markdown",
      "source": [
        "**Úprava datasetu:**\n",
        "\n",
        "*čištění*\n",
        "-řádky s Description pouze znaky,atd., lowercase\n",
        "- prázdné pole Description s nulovou cenou\n",
        "- A = Adjust bad debt\n",
        "- C = zrušené nákupy (10 000 řádků)\n",
        "\n",
        "*Vytvořit*\n",
        "- sloupec flag\n",
        "-sloupec profit (quantity * price)\n",
        "\n",
        "\n",
        "\n",
        "*Vizualizace*\n",
        "- jaký produkt se nakupuje nejvíce\n",
        " - celkový profit/ztráta / za kvartál\n",
        " "
      ],
      "metadata": {
        "id": "p7rcOXKRiHaM"
      }
    },
    {
      "cell_type": "markdown",
      "source": [
        "**Identifikování chybějících dat**"
      ],
      "metadata": {
        "id": "A2J23WLX6G09"
      }
    },
    {
      "cell_type": "code",
      "source": [
        "print(df_retail.info())\n",
        "print(df_retail.dtypes)\n",
        "print(df_retail.shape)"
      ],
      "metadata": {
        "colab": {
          "base_uri": "https://localhost:8080/"
        },
        "id": "rJnPH0aJ1M4l",
        "outputId": "1955403c-a388-4fc9-ee5e-680cda07b714"
      },
      "execution_count": 303,
      "outputs": [
        {
          "output_type": "stream",
          "name": "stdout",
          "text": [
            "<class 'pandas.core.frame.DataFrame'>\n",
            "RangeIndex: 541909 entries, 0 to 541908\n",
            "Data columns (total 8 columns):\n",
            " #   Column       Non-Null Count   Dtype         \n",
            "---  ------       --------------   -----         \n",
            " 0   InvoiceNo    541909 non-null  object        \n",
            " 1   StockCode    541909 non-null  object        \n",
            " 2   Description  540455 non-null  object        \n",
            " 3   Quantity     541909 non-null  int64         \n",
            " 4   InvoiceDate  541909 non-null  datetime64[ns]\n",
            " 5   UnitPrice    541909 non-null  float64       \n",
            " 6   CustomerID   406829 non-null  float64       \n",
            " 7   Country      541909 non-null  object        \n",
            "dtypes: datetime64[ns](1), float64(2), int64(1), object(4)\n",
            "memory usage: 33.1+ MB\n",
            "None\n",
            "InvoiceNo              object\n",
            "StockCode              object\n",
            "Description            object\n",
            "Quantity                int64\n",
            "InvoiceDate    datetime64[ns]\n",
            "UnitPrice             float64\n",
            "CustomerID            float64\n",
            "Country                object\n",
            "dtype: object\n",
            "(541909, 8)\n"
          ]
        }
      ]
    },
    {
      "cell_type": "code",
      "source": [
        "df_retail.isnull().sum()"
      ],
      "metadata": {
        "colab": {
          "base_uri": "https://localhost:8080/"
        },
        "id": "kkXZg2XD1Mxg",
        "outputId": "cf9e379a-9353-498f-aedc-0437c26d0f95"
      },
      "execution_count": 304,
      "outputs": [
        {
          "output_type": "execute_result",
          "data": {
            "text/plain": [
              "InvoiceNo           0\n",
              "StockCode           0\n",
              "Description      1454\n",
              "Quantity            0\n",
              "InvoiceDate         0\n",
              "UnitPrice           0\n",
              "CustomerID     135080\n",
              "Country             0\n",
              "dtype: int64"
            ]
          },
          "metadata": {},
          "execution_count": 304
        }
      ]
    },
    {
      "cell_type": "markdown",
      "source": [
        "Kolik % dat chybí v jednotlivých řádcích"
      ],
      "metadata": {
        "id": "XhnzkeUwtloj"
      }
    },
    {
      "cell_type": "code",
      "source": [
        "for column in df_retail.columns:\n",
        "    percentage = df_retail[column].isnull().mean()\n",
        "    print(f'{column}: {round(percentage*100, 2)}%')"
      ],
      "metadata": {
        "colab": {
          "base_uri": "https://localhost:8080/"
        },
        "id": "ToVQT41Q1Moj",
        "outputId": "24c69f18-6432-4c3a-bb2b-64e55c2f0051"
      },
      "execution_count": 305,
      "outputs": [
        {
          "output_type": "stream",
          "name": "stdout",
          "text": [
            "InvoiceNo: 0.0%\n",
            "StockCode: 0.0%\n",
            "Description: 0.27%\n",
            "Quantity: 0.0%\n",
            "InvoiceDate: 0.0%\n",
            "UnitPrice: 0.0%\n",
            "CustomerID: 24.93%\n",
            "Country: 0.0%\n"
          ]
        }
      ]
    },
    {
      "cell_type": "markdown",
      "source": [
        "**Čištění**"
      ],
      "metadata": {
        "id": "qRmJzKik-Gel"
      }
    },
    {
      "cell_type": "markdown",
      "source": [
        "*Duplicitiní hodnoty*"
      ],
      "metadata": {
        "id": "SVZQuP1hKXqJ"
      }
    },
    {
      "cell_type": "code",
      "source": [
        "shape_a = df_retail.drop_duplicates()\n",
        "shape_a = shape_a.shape\n",
        "shape_b = df_retail.shape\n",
        "\n",
        "duplicates=shape_b[0]-shape_a[0]\n",
        "print(shape_a)\n",
        "print(shape_b )\n",
        "print(duplicates)\n"
      ],
      "metadata": {
        "id": "BeCeuvaQn86q",
        "outputId": "1eae5d5c-5bab-48c6-f980-a7cbc7d203d9",
        "colab": {
          "base_uri": "https://localhost:8080/"
        }
      },
      "execution_count": 306,
      "outputs": [
        {
          "output_type": "stream",
          "name": "stdout",
          "text": [
            "(536641, 8)\n",
            "(541909, 8)\n",
            "5268\n"
          ]
        }
      ]
    },
    {
      "cell_type": "code",
      "source": [
        "clear_df = df_retail.drop_duplicates()"
      ],
      "metadata": {
        "id": "2dleh2i1Bd6i"
      },
      "execution_count": 307,
      "outputs": []
    },
    {
      "cell_type": "markdown",
      "source": [
        "Čištění podle klíčových slov"
      ],
      "metadata": {
        "id": "3CKMs3imtx-D"
      }
    },
    {
      "cell_type": "code",
      "source": [
        "clear_df = df_retail[~df_retail.Description.str.contains(\"\\?|wrong|damage|crushed|missing|destroyed|lost|mouldy|wet|thrown|smashed|check|Dotcom|Printing|broken|counted|problem|away|ebay|incorrect\", na=False,case=False)]\n"
      ],
      "metadata": {
        "id": "f094KpwfFjac"
      },
      "execution_count": null,
      "outputs": []
    },
    {
      "cell_type": "markdown",
      "source": [
        "**Odstranění v sloupci Description**\n",
        "\n",
        "- vytvoření pomocného listu s LowerCase slovy\n",
        "- ponecháme pouze názvy produktů"
      ],
      "metadata": {
        "id": "chPSO4XooJ50"
      }
    },
    {
      "cell_type": "code",
      "source": [
        "clear_df = df_retail.drop_duplicates()\n",
        "\n",
        "clear_df = df_retail[~df_retail.Description.str.contains(\"\\?|wrong|damage|crushed|missing|destroyed|lost|mouldy|wet|thrown|smashed|check|Dotcom|Printing|broken|counted|problem|away|ebay|incorrect|20713\", na=False,case=False)]\n",
        "\n",
        "\n",
        "\n",
        "my_list = clear_df['Description'].str.extractall(r'(\\b[a-z]+\\b)')[0].tolist()\n",
        "my_list = list(dict.fromkeys(my_list))\n",
        "\n",
        "clear_df = clear_df[~clear_df['Description'].str.contains('|'.join(my_list),na=False)]"
      ],
      "metadata": {
        "id": "TtXVg_fMId73"
      },
      "execution_count": null,
      "outputs": []
    },
    {
      "cell_type": "code",
      "source": [
        "print(clear_df.shape)\n",
        "print(aclear_df.shape)"
      ],
      "metadata": {
        "id": "brY2iSWOJcDt"
      },
      "execution_count": null,
      "outputs": []
    },
    {
      "cell_type": "markdown",
      "source": [
        "**1. Jaký produkt se prodává nejvíce:**"
      ],
      "metadata": {
        "id": "ty2SKjBqrTKu"
      }
    },
    {
      "cell_type": "markdown",
      "source": [
        "Podle počtu nákupů"
      ],
      "metadata": {
        "id": "Io3eN4oz8KJo"
      }
    },
    {
      "cell_type": "code",
      "source": [
        "sells_df = clear_df.assign(sells = 1)\n",
        "sells_df = sells_df[['Description','sells']].groupby(['Description']).count().sort_values('sells',ascending = False)"
      ],
      "metadata": {
        "id": "f0T6dNJnrpe0"
      },
      "execution_count": null,
      "outputs": []
    },
    {
      "cell_type": "markdown",
      "source": [
        "Prvních a posledních 5 "
      ],
      "metadata": {
        "id": "3nMjNURsUmxT"
      }
    },
    {
      "cell_type": "code",
      "source": [
        "sells_df.iloc[np.r_[0:5, -5:0]]"
      ],
      "metadata": {
        "id": "Fa4G6p0sT4QX"
      },
      "execution_count": null,
      "outputs": []
    },
    {
      "cell_type": "markdown",
      "source": [
        "**GRAF**"
      ],
      "metadata": {
        "id": "clPGmeFf85b1"
      }
    },
    {
      "cell_type": "code",
      "source": [
        "df = sells_df.reset_index()\n",
        "df = df.astype({\"sells\": int, \"Description\": str})"
      ],
      "metadata": {
        "id": "Sd5C8lz_t_gm"
      },
      "execution_count": null,
      "outputs": []
    },
    {
      "cell_type": "code",
      "source": [
        "fig, ax = plt.subplots(figsize=(25,12))\n",
        "ax.bar(df['Description'], df['sells'], edgecolor='blue', alpha=0.75)\n",
        "ax.set_title('Prodeje zboží - kolikrát bylo zboží prodáno')\n",
        "ax.set_ylabel('počet prodejů')\n",
        "ax.grid()\n",
        "ax.xaxis.set_visible(False)"
      ],
      "metadata": {
        "id": "GFERn3di84dX"
      },
      "execution_count": null,
      "outputs": []
    },
    {
      "cell_type": "markdown",
      "source": [
        "Histogram"
      ],
      "metadata": {
        "id": "QwzPBztcZgtb"
      }
    },
    {
      "cell_type": "code",
      "source": [
        "fig, ax = plt.subplots(figsize=(25,12))\n",
        "plt.hist(df['sells'])\n",
        "ax.set_title('Prodeje zboží - kolikrát bylo zboží prodáno')\n",
        "ax.set_ylabel('počet prodejů')\n",
        "ax.set_xlabel('počet produktů')\n",
        "ax.grid()\n",
        "plt.show()"
      ],
      "metadata": {
        "id": "dEkmspmTZgZT"
      },
      "execution_count": null,
      "outputs": []
    },
    {
      "cell_type": "markdown",
      "source": [
        "podle počtu prodaných kusů"
      ],
      "metadata": {
        "id": "HJPNzAkO8Rqd"
      }
    },
    {
      "cell_type": "code",
      "source": [
        "sells_df2 = clear_df[['Description','Quantity']].groupby(['Description']).sum().sort_values('Quantity',ascending = False)\n"
      ],
      "metadata": {
        "id": "EL7lEtPHtPwh"
      },
      "execution_count": null,
      "outputs": []
    },
    {
      "cell_type": "code",
      "source": [
        "sells_df2.iloc[np.r_[0:5, -5:0]]"
      ],
      "metadata": {
        "id": "E4-ZCN3mWC5P"
      },
      "execution_count": null,
      "outputs": []
    },
    {
      "cell_type": "markdown",
      "source": [
        "**GRAF**"
      ],
      "metadata": {
        "id": "lK4CbVc-VIP7"
      }
    },
    {
      "cell_type": "code",
      "source": [
        "df2 = sells_df2.reset_index()\n",
        "df2 = df2.astype({\"Quantity\": int, \"Description\": str})\n"
      ],
      "metadata": {
        "id": "Pdtd4FN-uOv_"
      },
      "execution_count": null,
      "outputs": []
    },
    {
      "cell_type": "code",
      "source": [
        "fig, ax = plt.subplots(figsize=(25,12))\n",
        "ax.bar(df2['Description'], df2['Quantity'], edgecolor='red', alpha=0.75)\n",
        "ax.set_title('Prodeje zboží - kolikrát bylo zboží prodáno')\n",
        "ax.set_ylabel('počet prodejů')\n",
        "ax.grid()\n",
        "ax.xaxis.set_visible(False)"
      ],
      "metadata": {
        "id": "LHE6yDgpVHzE"
      },
      "execution_count": null,
      "outputs": []
    },
    {
      "cell_type": "markdown",
      "source": [
        "Histogram"
      ],
      "metadata": {
        "id": "bme6VpsGaa5M"
      }
    },
    {
      "cell_type": "code",
      "source": [
        "fig, ax = plt.subplots(figsize=(25,12))\n",
        "plt.hist(df2['Quantity'],bins=10,color='red')\n",
        "ax.set_title('Prodeje zboží - kolikrát bylo zboží prodáno')\n",
        "ax.set_ylabel('počet produktů')\n",
        "ax.set_xlabel('počet prodejů na kusy')\n",
        "ax.xaxis.set_minor_locator(MultipleLocator(1000))\n",
        "ax.grid()\n",
        "plt.show()"
      ],
      "metadata": {
        "id": "GuBgbsUIacIf"
      },
      "execution_count": null,
      "outputs": []
    },
    {
      "cell_type": "markdown",
      "source": [
        "**Ve které zemi se prodává nejvíce**"
      ],
      "metadata": {
        "id": "nKv15qh2-oXz"
      }
    },
    {
      "cell_type": "markdown",
      "source": [
        "**Vytvoření pomocných sloupců.**"
      ],
      "metadata": {
        "id": "SGyzksp7FyKg"
      }
    },
    {
      "cell_type": "markdown",
      "source": [
        "\n",
        "- **total** = celkový výnos/ztráta\n",
        "- **flag** = počet zakoupení\n",
        "- **quantity** = čeho se prodalo nejvíce / nejméně\n",
        "\n",
        "\n"
      ],
      "metadata": {
        "id": "Jb19mGGtG2mL"
      }
    },
    {
      "cell_type": "code",
      "source": [
        "df_countries = df_retail[['Country']].assign(sells = 1).groupby('Country').count().sort_values('sells',ascending = False)\n",
        "df_countries['percent'] = round((df_countries['sells']  / df_countries['sells'].sum()*100),2)\n",
        "df_countries.head()"
      ],
      "metadata": {
        "id": "uIDQIjzj_DJO"
      },
      "execution_count": null,
      "outputs": []
    },
    {
      "cell_type": "markdown",
      "source": [
        "**Zisk / Ztráta**"
      ],
      "metadata": {
        "id": "1o6vKi4gCOnk"
      }
    },
    {
      "cell_type": "markdown",
      "source": [
        "Tabulka s vypočítanou ziskovostí či ztrátovostí"
      ],
      "metadata": {
        "id": "K4O1FYVdGIQQ"
      }
    },
    {
      "cell_type": "code",
      "source": [
        "df_profit = df_retail.assign(total = (df_retail.Quantity * df_retail.UnitPrice))\n",
        "df_profit.head(3)\n"
      ],
      "metadata": {
        "id": "_Gq12XwuCV7e"
      },
      "execution_count": null,
      "outputs": []
    },
    {
      "cell_type": "code",
      "source": [
        "df_profit = df_profit[['Description','StockCode','total']].groupby(['StockCode','Description']).sum().sort_values('total',ascending = False)"
      ],
      "metadata": {
        "id": "B6zYdEXJDuo5"
      },
      "execution_count": null,
      "outputs": []
    },
    {
      "cell_type": "code",
      "source": [
        "df_profit_Stock = df_profit.query(\"total != 0\").sort_values('total', ascending = False)\n",
        "df_profit_Stock = df_profit_Stock.query(\"total > 0\") \n",
        "df_profit_Stock"
      ],
      "metadata": {
        "id": "sfKgwm6CFQO9"
      },
      "execution_count": null,
      "outputs": []
    },
    {
      "cell_type": "markdown",
      "source": [
        "**Bilance za dny/měsíce/kvartály za rok 2011** "
      ],
      "metadata": {
        "id": "qhT714oFGYeG"
      }
    },
    {
      "cell_type": "code",
      "source": [
        "df_days = df_retail.assign(total = (df_retail.Quantity * df_retail.UnitPrice))"
      ],
      "metadata": {
        "id": "JMTSzoSEUF97"
      },
      "execution_count": null,
      "outputs": []
    },
    {
      "cell_type": "code",
      "source": [
        "df_days = df_days.query(\"InvoiceDate >= '2011-01-01'\")"
      ],
      "metadata": {
        "id": "0feITR7Ag1Uf"
      },
      "execution_count": null,
      "outputs": []
    },
    {
      "cell_type": "code",
      "source": [
        "df_days.index = pd.to_datetime(df_days['InvoiceDate'],format='%m/%d/%y %I:%M%p')"
      ],
      "metadata": {
        "id": "X1HROlseUO8z"
      },
      "execution_count": null,
      "outputs": []
    },
    {
      "cell_type": "code",
      "source": [
        "df_days = df_days[['total']].groupby(pd.Grouper(freq='d')).sum().sort_values('InvoiceDate')\n",
        "df_days"
      ],
      "metadata": {
        "id": "32ZM9JIyVAUA"
      },
      "execution_count": null,
      "outputs": []
    },
    {
      "cell_type": "code",
      "source": [
        "df3 = df_days.reset_index()\n",
        "df3"
      ],
      "metadata": {
        "id": "2S3jsmb3i9NJ"
      },
      "execution_count": null,
      "outputs": []
    },
    {
      "cell_type": "code",
      "source": [
        "fig, ax = plt.subplots(figsize=(16,8))\n",
        "plt.bar(df3['InvoiceDate'], df3['total'])\n",
        "ax.set_title('Denní tržby v průběhu roku',fontsize=20)\n",
        "ax.set_ylabel('tržby',fontsize=14)\n",
        "ax.grid(alpha=0.25)"
      ],
      "metadata": {
        "id": "lSYjbk2Ulg98"
      },
      "execution_count": null,
      "outputs": []
    },
    {
      "cell_type": "code",
      "source": [
        "df_months = df_days.query(\"InvoiceDate >= '2011-01-01'\")\n",
        "df_months = df_months[['total']].groupby(pd.Grouper(freq='m')).sum().sort_values('InvoiceDate')\n",
        "df_months"
      ],
      "metadata": {
        "id": "MtQ8KkstVUc_"
      },
      "execution_count": null,
      "outputs": []
    },
    {
      "cell_type": "markdown",
      "source": [
        "**GRAF**"
      ],
      "metadata": {
        "id": "asfsGjlrjgTL"
      }
    },
    {
      "cell_type": "code",
      "source": [
        "months_list = ['Jan', 'Feb', 'Mar', 'Apr', 'May', 'Jun', 'Jul', 'Aug', 'Sep', 'Oct', 'Nov', 'Dec']"
      ],
      "metadata": {
        "id": "WByVavNVoZaN"
      },
      "execution_count": 332,
      "outputs": []
    },
    {
      "cell_type": "code",
      "source": [
        "fig, ax = plt.subplots(figsize=(16,8))\n",
        "plt.bar(months_list, df_months['total'])\n",
        "ax.set_title('Mesíční bilance Za rok 2011',fontsize=20)\n",
        "ax.set_ylabel('tržby v milionech',fontsize=14)\n",
        "ax.grid(alpha=0.25)"
      ],
      "metadata": {
        "colab": {
          "base_uri": "https://localhost:8080/",
          "height": 504
        },
        "id": "YIiAMC5qppHb",
        "outputId": "76acaa31-1976-4ff1-91c6-01e9eb5f51ac"
      },
      "execution_count": 333,
      "outputs": [
        {
          "data": {
            "image/png": "[encoded data removed]",
            "text/plain": [
              "<Figure size 1152x576 with 1 Axes>"
            ]
          },
          "metadata": {},
          "output_type": "display_data"
        }
      ]
    },
    {
      "cell_type": "code",
      "source": [
        "df_quartal = df_days.query(\"InvoiceDate >= '2011-01-01'\")"
      ],
      "metadata": {
        "id": "mRIePim3xh8m"
      },
      "execution_count": 334,
      "outputs": []
    },
    {
      "cell_type": "code",
      "source": [
        "df_quartal = df_quartal[['total']].groupby(pd.Grouper(freq='q')).sum().sort_values('InvoiceDate')"
      ],
      "metadata": {
        "id": "kOzyCifVVaDB"
      },
      "execution_count": 335,
      "outputs": []
    },
    {
      "cell_type": "code",
      "source": [
        "q = ['1.kvartál','2.kvartál','3.kvartál','4.kvartál']"
      ],
      "metadata": {
        "id": "YT93hQcMwNXV"
      },
      "execution_count": 336,
      "outputs": []
    },
    {
      "cell_type": "code",
      "source": [
        "fig, ax = plt.subplots(figsize=(16,8))\n",
        "plt.bar(q, df_quartal['total'])\n",
        "ax.set_title('Kvartální bilance Za rok 2011',fontsize=20)\n",
        "ax.set_ylabel('tržby v milionech',fontsize=14)\n",
        "ax.grid(alpha=0.25)"
      ],
      "metadata": {
        "colab": {
          "base_uri": "https://localhost:8080/",
          "height": 504
        },
        "id": "O4L5X9lqwLpv",
        "outputId": "62aa87a3-2399-49d6-c79b-07afbe323ff4"
      },
      "execution_count": 337,
      "outputs": [
        {
          "data": {
            "image/png": "[encoded data removed]",
            "text/plain": [
              "<Figure size 1152x576 with 1 Axes>"
            ]
          },
          "metadata": {},
          "output_type": "display_data"
        }
      ]
    },
    {
      "cell_type": "code",
      "source": [
        ""
      ],
      "metadata": {
        "id": "VVwKAJ0cxOFv"
      },
      "execution_count": 337,
      "outputs": []
    }
  ]
}